{
 "cells": [
  {
   "cell_type": "code",
   "execution_count": 1,
   "metadata": {},
   "outputs": [],
   "source": [
    "import pandas as pd\n",
    "from pathlib import Path\n",
    "import glob\n",
    "from sklearn.model_selection import train_test_split\n",
    "from sklearn.linear_model import LinearRegression\n",
    "from sklearn import metrics\n",
    "import numpy as np\n",
    "from math import sqrt\n",
    "import matplotlib.pyplot as plt\n",
    "%matplotlib inline\n",
    "import seaborn as sns\n",
    "import pickle\n",
    "import pandas_profiling"
   ]
  },
  {
   "cell_type": "code",
   "execution_count": 2,
   "metadata": {},
   "outputs": [
    {
     "data": {
      "text/plain": [
       "PosixPath('/Users/germanportes/Documents/general_assembly/projects/final_project')"
      ]
     },
     "execution_count": 2,
     "metadata": {},
     "output_type": "execute_result"
    }
   ],
   "source": [
    "home = Path.cwd()\n",
    "home"
   ]
  },
  {
   "cell_type": "code",
   "execution_count": 3,
   "metadata": {},
   "outputs": [
    {
     "data": {
      "text/html": [
       "<div>\n",
       "<style scoped>\n",
       "    .dataframe tbody tr th:only-of-type {\n",
       "        vertical-align: middle;\n",
       "    }\n",
       "\n",
       "    .dataframe tbody tr th {\n",
       "        vertical-align: top;\n",
       "    }\n",
       "\n",
       "    .dataframe thead th {\n",
       "        text-align: right;\n",
       "    }\n",
       "</style>\n",
       "<table border=\"1\" class=\"dataframe\">\n",
       "  <thead>\n",
       "    <tr style=\"text-align: right;\">\n",
       "      <th></th>\n",
       "      <th>Date</th>\n",
       "      <th>High</th>\n",
       "      <th>Low</th>\n",
       "      <th>Open</th>\n",
       "      <th>Close</th>\n",
       "      <th>Volume</th>\n",
       "      <th>Adj Close</th>\n",
       "      <th>HL_pct_diff</th>\n",
       "      <th>daily_pct_chng</th>\n",
       "      <th>ticker</th>\n",
       "    </tr>\n",
       "  </thead>\n",
       "  <tbody>\n",
       "    <tr>\n",
       "      <td>444662</td>\n",
       "      <td>2016-10-28</td>\n",
       "      <td>40.360001</td>\n",
       "      <td>39.500000</td>\n",
       "      <td>39.619999</td>\n",
       "      <td>39.810001</td>\n",
       "      <td>1100300.0</td>\n",
       "      <td>39.617397</td>\n",
       "      <td>0.021772</td>\n",
       "      <td>0.004796</td>\n",
       "      <td>TXT</td>\n",
       "    </tr>\n",
       "    <tr>\n",
       "      <td>216477</td>\n",
       "      <td>2016-07-05</td>\n",
       "      <td>30.317308</td>\n",
       "      <td>29.923077</td>\n",
       "      <td>30.048077</td>\n",
       "      <td>30.240385</td>\n",
       "      <td>33654900.0</td>\n",
       "      <td>27.494465</td>\n",
       "      <td>0.013175</td>\n",
       "      <td>0.006400</td>\n",
       "      <td>GE</td>\n",
       "    </tr>\n",
       "    <tr>\n",
       "      <td>485555</td>\n",
       "      <td>2017-07-19</td>\n",
       "      <td>62.770000</td>\n",
       "      <td>61.950001</td>\n",
       "      <td>62.139999</td>\n",
       "      <td>62.700001</td>\n",
       "      <td>2174200.0</td>\n",
       "      <td>58.353977</td>\n",
       "      <td>0.013236</td>\n",
       "      <td>0.009012</td>\n",
       "      <td>WEC</td>\n",
       "    </tr>\n",
       "    <tr>\n",
       "      <td>131403</td>\n",
       "      <td>2016-03-11</td>\n",
       "      <td>102.430000</td>\n",
       "      <td>98.129997</td>\n",
       "      <td>98.610001</td>\n",
       "      <td>102.059998</td>\n",
       "      <td>2723200.0</td>\n",
       "      <td>101.642593</td>\n",
       "      <td>0.043819</td>\n",
       "      <td>0.034986</td>\n",
       "      <td>CXO</td>\n",
       "    </tr>\n",
       "    <tr>\n",
       "      <td>94757</td>\n",
       "      <td>2018-10-09</td>\n",
       "      <td>71.269997</td>\n",
       "      <td>70.129997</td>\n",
       "      <td>70.800003</td>\n",
       "      <td>70.779999</td>\n",
       "      <td>1801000.0</td>\n",
       "      <td>70.779999</td>\n",
       "      <td>0.016256</td>\n",
       "      <td>-0.000283</td>\n",
       "      <td>KMX</td>\n",
       "    </tr>\n",
       "    <tr>\n",
       "      <td>121304</td>\n",
       "      <td>2016-02-12</td>\n",
       "      <td>51.250198</td>\n",
       "      <td>49.729256</td>\n",
       "      <td>50.151299</td>\n",
       "      <td>51.210384</td>\n",
       "      <td>1975800.0</td>\n",
       "      <td>50.495380</td>\n",
       "      <td>0.030584</td>\n",
       "      <td>0.021118</td>\n",
       "      <td>CTXS</td>\n",
       "    </tr>\n",
       "    <tr>\n",
       "      <td>200823</td>\n",
       "      <td>2018-10-05</td>\n",
       "      <td>95.989998</td>\n",
       "      <td>93.540001</td>\n",
       "      <td>95.959999</td>\n",
       "      <td>93.779999</td>\n",
       "      <td>1351300.0</td>\n",
       "      <td>93.063438</td>\n",
       "      <td>0.026192</td>\n",
       "      <td>-0.022718</td>\n",
       "      <td>FRC</td>\n",
       "    </tr>\n",
       "    <tr>\n",
       "      <td>464015</td>\n",
       "      <td>2017-11-13</td>\n",
       "      <td>145.720001</td>\n",
       "      <td>143.580002</td>\n",
       "      <td>145.190002</td>\n",
       "      <td>144.610001</td>\n",
       "      <td>1313900.0</td>\n",
       "      <td>144.610001</td>\n",
       "      <td>0.014905</td>\n",
       "      <td>-0.003995</td>\n",
       "      <td>URI</td>\n",
       "    </tr>\n",
       "    <tr>\n",
       "      <td>344728</td>\n",
       "      <td>2019-05-21</td>\n",
       "      <td>11.830000</td>\n",
       "      <td>11.640000</td>\n",
       "      <td>11.700000</td>\n",
       "      <td>11.800000</td>\n",
       "      <td>1877500.0</td>\n",
       "      <td>11.717884</td>\n",
       "      <td>0.016323</td>\n",
       "      <td>0.008547</td>\n",
       "      <td>NWSA</td>\n",
       "    </tr>\n",
       "    <tr>\n",
       "      <td>196414</td>\n",
       "      <td>2017-04-07</td>\n",
       "      <td>196.880005</td>\n",
       "      <td>195.369995</td>\n",
       "      <td>195.539993</td>\n",
       "      <td>195.649994</td>\n",
       "      <td>1612000.0</td>\n",
       "      <td>190.097122</td>\n",
       "      <td>0.007729</td>\n",
       "      <td>0.000563</td>\n",
       "      <td>FDX</td>\n",
       "    </tr>\n",
       "  </tbody>\n",
       "</table>\n",
       "</div>"
      ],
      "text/plain": [
       "              Date        High         Low        Open       Close  \\\n",
       "444662  2016-10-28   40.360001   39.500000   39.619999   39.810001   \n",
       "216477  2016-07-05   30.317308   29.923077   30.048077   30.240385   \n",
       "485555  2017-07-19   62.770000   61.950001   62.139999   62.700001   \n",
       "131403  2016-03-11  102.430000   98.129997   98.610001  102.059998   \n",
       "94757   2018-10-09   71.269997   70.129997   70.800003   70.779999   \n",
       "121304  2016-02-12   51.250198   49.729256   50.151299   51.210384   \n",
       "200823  2018-10-05   95.989998   93.540001   95.959999   93.779999   \n",
       "464015  2017-11-13  145.720001  143.580002  145.190002  144.610001   \n",
       "344728  2019-05-21   11.830000   11.640000   11.700000   11.800000   \n",
       "196414  2017-04-07  196.880005  195.369995  195.539993  195.649994   \n",
       "\n",
       "            Volume   Adj Close  HL_pct_diff  daily_pct_chng ticker  \n",
       "444662   1100300.0   39.617397     0.021772        0.004796    TXT  \n",
       "216477  33654900.0   27.494465     0.013175        0.006400     GE  \n",
       "485555   2174200.0   58.353977     0.013236        0.009012    WEC  \n",
       "131403   2723200.0  101.642593     0.043819        0.034986    CXO  \n",
       "94757    1801000.0   70.779999     0.016256       -0.000283    KMX  \n",
       "121304   1975800.0   50.495380     0.030584        0.021118   CTXS  \n",
       "200823   1351300.0   93.063438     0.026192       -0.022718    FRC  \n",
       "464015   1313900.0  144.610001     0.014905       -0.003995    URI  \n",
       "344728   1877500.0   11.717884     0.016323        0.008547   NWSA  \n",
       "196414   1612000.0  190.097122     0.007729        0.000563    FDX  "
      ]
     },
     "execution_count": 3,
     "metadata": {},
     "output_type": "execute_result"
    }
   ],
   "source": [
    "stocks = pd.read_csv(\"../final_project/sp500_1.csv\")\n",
    "#stocks = pd.read_csv(\"../final_project/sp500_1.csv\").profile_report()\n",
    "stocks.sample(10)"
   ]
  },
  {
   "cell_type": "code",
   "execution_count": 4,
   "metadata": {},
   "outputs": [],
   "source": [
    "# simple rolling average\n",
    "stocks['SMA_5'] = stocks.iloc[:,1].rolling(window=5).mean()"
   ]
  },
  {
   "cell_type": "code",
   "execution_count": 5,
   "metadata": {},
   "outputs": [
    {
     "data": {
      "text/html": [
       "<div>\n",
       "<style scoped>\n",
       "    .dataframe tbody tr th:only-of-type {\n",
       "        vertical-align: middle;\n",
       "    }\n",
       "\n",
       "    .dataframe tbody tr th {\n",
       "        vertical-align: top;\n",
       "    }\n",
       "\n",
       "    .dataframe thead th {\n",
       "        text-align: right;\n",
       "    }\n",
       "</style>\n",
       "<table border=\"1\" class=\"dataframe\">\n",
       "  <thead>\n",
       "    <tr style=\"text-align: right;\">\n",
       "      <th></th>\n",
       "      <th>Date</th>\n",
       "      <th>High</th>\n",
       "      <th>Low</th>\n",
       "      <th>Open</th>\n",
       "      <th>Close</th>\n",
       "      <th>Volume</th>\n",
       "      <th>Adj Close</th>\n",
       "      <th>HL_pct_diff</th>\n",
       "      <th>daily_pct_chng</th>\n",
       "      <th>ticker</th>\n",
       "      <th>SMA_5</th>\n",
       "    </tr>\n",
       "  </thead>\n",
       "  <tbody>\n",
       "    <tr>\n",
       "      <td>335160</td>\n",
       "      <td>2017-05-31</td>\n",
       "      <td>102.180000</td>\n",
       "      <td>100.250000</td>\n",
       "      <td>100.750000</td>\n",
       "      <td>101.730003</td>\n",
       "      <td>851400.0</td>\n",
       "      <td>98.933891</td>\n",
       "      <td>0.019252</td>\n",
       "      <td>0.009727</td>\n",
       "      <td>MSCI</td>\n",
       "      <td>101.172002</td>\n",
       "    </tr>\n",
       "    <tr>\n",
       "      <td>430587</td>\n",
       "      <td>2016-11-10</td>\n",
       "      <td>141.839996</td>\n",
       "      <td>134.080002</td>\n",
       "      <td>134.210007</td>\n",
       "      <td>139.899994</td>\n",
       "      <td>1203100.0</td>\n",
       "      <td>139.899994</td>\n",
       "      <td>0.057876</td>\n",
       "      <td>0.042396</td>\n",
       "      <td>SIVB</td>\n",
       "      <td>129.057999</td>\n",
       "    </tr>\n",
       "    <tr>\n",
       "      <td>378594</td>\n",
       "      <td>2017-12-27</td>\n",
       "      <td>84.940002</td>\n",
       "      <td>84.309998</td>\n",
       "      <td>84.470001</td>\n",
       "      <td>84.620003</td>\n",
       "      <td>337800.0</td>\n",
       "      <td>79.749649</td>\n",
       "      <td>0.007472</td>\n",
       "      <td>0.001776</td>\n",
       "      <td>PNW</td>\n",
       "      <td>85.692001</td>\n",
       "    </tr>\n",
       "    <tr>\n",
       "      <td>138898</td>\n",
       "      <td>2017-07-28</td>\n",
       "      <td>153.300003</td>\n",
       "      <td>152.110001</td>\n",
       "      <td>152.669998</td>\n",
       "      <td>152.889999</td>\n",
       "      <td>2779500.0</td>\n",
       "      <td>149.234955</td>\n",
       "      <td>0.007823</td>\n",
       "      <td>0.001441</td>\n",
       "      <td>COST</td>\n",
       "      <td>152.992001</td>\n",
       "    </tr>\n",
       "    <tr>\n",
       "      <td>484780</td>\n",
       "      <td>2018-06-21</td>\n",
       "      <td>193.389999</td>\n",
       "      <td>191.479996</td>\n",
       "      <td>192.710007</td>\n",
       "      <td>192.990005</td>\n",
       "      <td>677100.0</td>\n",
       "      <td>192.990005</td>\n",
       "      <td>0.009975</td>\n",
       "      <td>0.001453</td>\n",
       "      <td>WAT</td>\n",
       "      <td>197.408002</td>\n",
       "    </tr>\n",
       "  </tbody>\n",
       "</table>\n",
       "</div>"
      ],
      "text/plain": [
       "              Date        High         Low        Open       Close     Volume  \\\n",
       "335160  2017-05-31  102.180000  100.250000  100.750000  101.730003   851400.0   \n",
       "430587  2016-11-10  141.839996  134.080002  134.210007  139.899994  1203100.0   \n",
       "378594  2017-12-27   84.940002   84.309998   84.470001   84.620003   337800.0   \n",
       "138898  2017-07-28  153.300003  152.110001  152.669998  152.889999  2779500.0   \n",
       "484780  2018-06-21  193.389999  191.479996  192.710007  192.990005   677100.0   \n",
       "\n",
       "         Adj Close  HL_pct_diff  daily_pct_chng ticker       SMA_5  \n",
       "335160   98.933891     0.019252        0.009727   MSCI  101.172002  \n",
       "430587  139.899994     0.057876        0.042396   SIVB  129.057999  \n",
       "378594   79.749649     0.007472        0.001776    PNW   85.692001  \n",
       "138898  149.234955     0.007823        0.001441   COST  152.992001  \n",
       "484780  192.990005     0.009975        0.001453    WAT  197.408002  "
      ]
     },
     "execution_count": 5,
     "metadata": {},
     "output_type": "execute_result"
    }
   ],
   "source": [
    "stocks.sample(5)"
   ]
  },
  {
   "cell_type": "code",
   "execution_count": 6,
   "metadata": {},
   "outputs": [
    {
     "data": {
      "text/plain": [
       "Date              0\n",
       "High              0\n",
       "Low               0\n",
       "Open              0\n",
       "Close             0\n",
       "Volume            0\n",
       "Adj Close         0\n",
       "HL_pct_diff       0\n",
       "daily_pct_chng    0\n",
       "ticker            0\n",
       "SMA_5             4\n",
       "dtype: int64"
      ]
     },
     "execution_count": 6,
     "metadata": {},
     "output_type": "execute_result"
    }
   ],
   "source": [
    "# any missing data\n",
    "stocks.isnull().sum()"
   ]
  },
  {
   "cell_type": "code",
   "execution_count": 7,
   "metadata": {},
   "outputs": [
    {
     "data": {
      "text/plain": [
       "(505207, 11)"
      ]
     },
     "execution_count": 7,
     "metadata": {},
     "output_type": "execute_result"
    }
   ],
   "source": [
    "#size\n",
    "stocks.shape"
   ]
  },
  {
   "cell_type": "code",
   "execution_count": 8,
   "metadata": {},
   "outputs": [
    {
     "data": {
      "text/plain": [
       "count    505207.000000\n",
       "mean        106.499921\n",
       "std         171.910724\n",
       "min           1.740000\n",
       "25%          44.410000\n",
       "50%          72.330002\n",
       "75%         116.739998\n",
       "max        3766.270020\n",
       "Name: Close, dtype: float64"
      ]
     },
     "execution_count": 8,
     "metadata": {},
     "output_type": "execute_result"
    }
   ],
   "source": [
    "# Establish our target variables: \"runs\"\n",
    "stocks['Close'].describe()"
   ]
  },
  {
   "cell_type": "code",
   "execution_count": null,
   "metadata": {},
   "outputs": [],
   "source": []
  },
  {
   "cell_type": "code",
   "execution_count": 9,
   "metadata": {},
   "outputs": [
    {
     "data": {
      "text/plain": [
       "505"
      ]
     },
     "execution_count": 9,
     "metadata": {},
     "output_type": "execute_result"
    }
   ],
   "source": [
    "# How many unique companies are there?\n",
    "stocks['ticker'].nunique()"
   ]
  },
  {
   "cell_type": "code",
   "execution_count": 10,
   "metadata": {},
   "outputs": [
    {
     "data": {
      "text/html": [
       "<div>\n",
       "<style scoped>\n",
       "    .dataframe tbody tr th:only-of-type {\n",
       "        vertical-align: middle;\n",
       "    }\n",
       "\n",
       "    .dataframe tbody tr th {\n",
       "        vertical-align: top;\n",
       "    }\n",
       "\n",
       "    .dataframe thead th {\n",
       "        text-align: right;\n",
       "    }\n",
       "</style>\n",
       "<table border=\"1\" class=\"dataframe\">\n",
       "  <thead>\n",
       "    <tr style=\"text-align: right;\">\n",
       "      <th></th>\n",
       "      <th>Date</th>\n",
       "      <th>High</th>\n",
       "      <th>Low</th>\n",
       "      <th>Open</th>\n",
       "      <th>Close</th>\n",
       "      <th>Volume</th>\n",
       "      <th>Adj Close</th>\n",
       "      <th>HL_pct_diff</th>\n",
       "      <th>daily_pct_chng</th>\n",
       "      <th>ticker</th>\n",
       "      <th>SMA_5</th>\n",
       "    </tr>\n",
       "  </thead>\n",
       "  <tbody>\n",
       "    <tr>\n",
       "      <td>165548</td>\n",
       "      <td>2018-10-12</td>\n",
       "      <td>27.280001</td>\n",
       "      <td>26.629999</td>\n",
       "      <td>27.110001</td>\n",
       "      <td>26.809999</td>\n",
       "      <td>2245000.0</td>\n",
       "      <td>26.059151</td>\n",
       "      <td>0.024409</td>\n",
       "      <td>-0.011066</td>\n",
       "      <td>DRE</td>\n",
       "      <td>28.220000</td>\n",
       "    </tr>\n",
       "    <tr>\n",
       "      <td>182649</td>\n",
       "      <td>2018-08-23</td>\n",
       "      <td>242.750000</td>\n",
       "      <td>241.399994</td>\n",
       "      <td>241.869995</td>\n",
       "      <td>242.169998</td>\n",
       "      <td>192200.0</td>\n",
       "      <td>233.890793</td>\n",
       "      <td>0.005592</td>\n",
       "      <td>0.001240</td>\n",
       "      <td>ESS</td>\n",
       "      <td>243.042001</td>\n",
       "    </tr>\n",
       "    <tr>\n",
       "      <td>144920</td>\n",
       "      <td>2017-06-21</td>\n",
       "      <td>34.299999</td>\n",
       "      <td>33.509998</td>\n",
       "      <td>33.770000</td>\n",
       "      <td>33.970001</td>\n",
       "      <td>3145000.0</td>\n",
       "      <td>33.018524</td>\n",
       "      <td>0.023575</td>\n",
       "      <td>0.005922</td>\n",
       "      <td>DHI</td>\n",
       "      <td>34.264000</td>\n",
       "    </tr>\n",
       "    <tr>\n",
       "      <td>187702</td>\n",
       "      <td>2018-09-12</td>\n",
       "      <td>44.459999</td>\n",
       "      <td>44.060001</td>\n",
       "      <td>44.250000</td>\n",
       "      <td>44.119999</td>\n",
       "      <td>4665600.0</td>\n",
       "      <td>42.798389</td>\n",
       "      <td>0.009078</td>\n",
       "      <td>-0.002938</td>\n",
       "      <td>EXC</td>\n",
       "      <td>44.562000</td>\n",
       "    </tr>\n",
       "    <tr>\n",
       "      <td>449148</td>\n",
       "      <td>2018-09-28</td>\n",
       "      <td>56.369999</td>\n",
       "      <td>55.820000</td>\n",
       "      <td>55.935001</td>\n",
       "      <td>56.009998</td>\n",
       "      <td>6800400.0</td>\n",
       "      <td>55.107155</td>\n",
       "      <td>0.009853</td>\n",
       "      <td>0.001341</td>\n",
       "      <td>TJX</td>\n",
       "      <td>55.853999</td>\n",
       "    </tr>\n",
       "    <tr>\n",
       "      <td>86562</td>\n",
       "      <td>2018-04-04</td>\n",
       "      <td>54.990002</td>\n",
       "      <td>53.320000</td>\n",
       "      <td>53.570000</td>\n",
       "      <td>54.709999</td>\n",
       "      <td>909500.0</td>\n",
       "      <td>53.323734</td>\n",
       "      <td>0.031320</td>\n",
       "      <td>0.021281</td>\n",
       "      <td>BF.B</td>\n",
       "      <td>54.542001</td>\n",
       "    </tr>\n",
       "    <tr>\n",
       "      <td>188156</td>\n",
       "      <td>2016-06-30</td>\n",
       "      <td>106.459999</td>\n",
       "      <td>103.930000</td>\n",
       "      <td>105.540001</td>\n",
       "      <td>106.300003</td>\n",
       "      <td>2336800.0</td>\n",
       "      <td>102.998184</td>\n",
       "      <td>0.024343</td>\n",
       "      <td>0.007201</td>\n",
       "      <td>EXPE</td>\n",
       "      <td>104.349998</td>\n",
       "    </tr>\n",
       "    <tr>\n",
       "      <td>240262</td>\n",
       "      <td>2019-01-22</td>\n",
       "      <td>44.259998</td>\n",
       "      <td>43.020000</td>\n",
       "      <td>43.880001</td>\n",
       "      <td>44.189999</td>\n",
       "      <td>2061800.0</td>\n",
       "      <td>44.189999</td>\n",
       "      <td>0.028824</td>\n",
       "      <td>0.007065</td>\n",
       "      <td>HOLX</td>\n",
       "      <td>43.689999</td>\n",
       "    </tr>\n",
       "    <tr>\n",
       "      <td>129426</td>\n",
       "      <td>2016-05-06</td>\n",
       "      <td>42.439999</td>\n",
       "      <td>41.709999</td>\n",
       "      <td>41.980000</td>\n",
       "      <td>42.279999</td>\n",
       "      <td>926200.0</td>\n",
       "      <td>39.137180</td>\n",
       "      <td>0.017502</td>\n",
       "      <td>0.007146</td>\n",
       "      <td>CMA</td>\n",
       "      <td>43.430000</td>\n",
       "    </tr>\n",
       "    <tr>\n",
       "      <td>47379</td>\n",
       "      <td>2018-10-05</td>\n",
       "      <td>157.940002</td>\n",
       "      <td>155.309998</td>\n",
       "      <td>157.169998</td>\n",
       "      <td>155.520004</td>\n",
       "      <td>1003300.0</td>\n",
       "      <td>153.993591</td>\n",
       "      <td>0.016934</td>\n",
       "      <td>-0.010498</td>\n",
       "      <td>AON</td>\n",
       "      <td>157.154001</td>\n",
       "    </tr>\n",
       "    <tr>\n",
       "      <td>16183</td>\n",
       "      <td>2015-12-18</td>\n",
       "      <td>82.290001</td>\n",
       "      <td>79.900002</td>\n",
       "      <td>80.970001</td>\n",
       "      <td>79.949997</td>\n",
       "      <td>1417100.0</td>\n",
       "      <td>74.485817</td>\n",
       "      <td>0.029912</td>\n",
       "      <td>-0.012597</td>\n",
       "      <td>ALK</td>\n",
       "      <td>83.184001</td>\n",
       "    </tr>\n",
       "    <tr>\n",
       "      <td>422905</td>\n",
       "      <td>2018-04-11</td>\n",
       "      <td>44.540001</td>\n",
       "      <td>44.099998</td>\n",
       "      <td>44.330002</td>\n",
       "      <td>44.470001</td>\n",
       "      <td>3536200.0</td>\n",
       "      <td>41.298725</td>\n",
       "      <td>0.009977</td>\n",
       "      <td>0.003158</td>\n",
       "      <td>SO</td>\n",
       "      <td>44.978001</td>\n",
       "    </tr>\n",
       "    <tr>\n",
       "      <td>72603</td>\n",
       "      <td>2018-11-08</td>\n",
       "      <td>244.539993</td>\n",
       "      <td>236.289993</td>\n",
       "      <td>236.800003</td>\n",
       "      <td>244.479996</td>\n",
       "      <td>1543400.0</td>\n",
       "      <td>241.441803</td>\n",
       "      <td>0.034915</td>\n",
       "      <td>0.032432</td>\n",
       "      <td>BDX</td>\n",
       "      <td>240.967999</td>\n",
       "    </tr>\n",
       "    <tr>\n",
       "      <td>139849</td>\n",
       "      <td>2017-05-08</td>\n",
       "      <td>18.350000</td>\n",
       "      <td>17.959999</td>\n",
       "      <td>18.070000</td>\n",
       "      <td>18.020000</td>\n",
       "      <td>11549900.0</td>\n",
       "      <td>16.386559</td>\n",
       "      <td>0.021715</td>\n",
       "      <td>-0.002767</td>\n",
       "      <td>COTY</td>\n",
       "      <td>18.388000</td>\n",
       "    </tr>\n",
       "    <tr>\n",
       "      <td>223505</td>\n",
       "      <td>2016-05-24</td>\n",
       "      <td>158.550003</td>\n",
       "      <td>156.440002</td>\n",
       "      <td>156.669998</td>\n",
       "      <td>157.589996</td>\n",
       "      <td>3038800.0</td>\n",
       "      <td>149.594086</td>\n",
       "      <td>0.013488</td>\n",
       "      <td>0.005872</td>\n",
       "      <td>GS</td>\n",
       "      <td>158.200000</td>\n",
       "    </tr>\n",
       "    <tr>\n",
       "      <td>300790</td>\n",
       "      <td>2016-10-18</td>\n",
       "      <td>70.660004</td>\n",
       "      <td>69.570000</td>\n",
       "      <td>70.529999</td>\n",
       "      <td>70.239998</td>\n",
       "      <td>5955100.0</td>\n",
       "      <td>66.626831</td>\n",
       "      <td>0.015668</td>\n",
       "      <td>-0.004112</td>\n",
       "      <td>LOW</td>\n",
       "      <td>71.362001</td>\n",
       "    </tr>\n",
       "    <tr>\n",
       "      <td>218296</td>\n",
       "      <td>2019-09-24</td>\n",
       "      <td>54.639999</td>\n",
       "      <td>53.750000</td>\n",
       "      <td>54.160000</td>\n",
       "      <td>54.180000</td>\n",
       "      <td>3315100.0</td>\n",
       "      <td>53.689728</td>\n",
       "      <td>0.016558</td>\n",
       "      <td>0.000369</td>\n",
       "      <td>GIS</td>\n",
       "      <td>54.958001</td>\n",
       "    </tr>\n",
       "    <tr>\n",
       "      <td>504623</td>\n",
       "      <td>2017-06-08</td>\n",
       "      <td>63.490002</td>\n",
       "      <td>62.459999</td>\n",
       "      <td>63.259998</td>\n",
       "      <td>62.580002</td>\n",
       "      <td>3086600.0</td>\n",
       "      <td>61.694630</td>\n",
       "      <td>0.016491</td>\n",
       "      <td>-0.010749</td>\n",
       "      <td>ZTS</td>\n",
       "      <td>63.214000</td>\n",
       "    </tr>\n",
       "    <tr>\n",
       "      <td>228537</td>\n",
       "      <td>2016-05-12</td>\n",
       "      <td>44.709999</td>\n",
       "      <td>44.259998</td>\n",
       "      <td>44.540001</td>\n",
       "      <td>44.500000</td>\n",
       "      <td>2488500.0</td>\n",
       "      <td>41.414680</td>\n",
       "      <td>0.010167</td>\n",
       "      <td>-0.000898</td>\n",
       "      <td>HIG</td>\n",
       "      <td>44.566000</td>\n",
       "    </tr>\n",
       "    <tr>\n",
       "      <td>113451</td>\n",
       "      <td>2016-12-13</td>\n",
       "      <td>44.720001</td>\n",
       "      <td>44.299999</td>\n",
       "      <td>44.450001</td>\n",
       "      <td>44.330002</td>\n",
       "      <td>2161500.0</td>\n",
       "      <td>42.526283</td>\n",
       "      <td>0.009481</td>\n",
       "      <td>-0.002700</td>\n",
       "      <td>CHD</td>\n",
       "      <td>44.738000</td>\n",
       "    </tr>\n",
       "  </tbody>\n",
       "</table>\n",
       "</div>"
      ],
      "text/plain": [
       "              Date        High         Low        Open       Close  \\\n",
       "165548  2018-10-12   27.280001   26.629999   27.110001   26.809999   \n",
       "182649  2018-08-23  242.750000  241.399994  241.869995  242.169998   \n",
       "144920  2017-06-21   34.299999   33.509998   33.770000   33.970001   \n",
       "187702  2018-09-12   44.459999   44.060001   44.250000   44.119999   \n",
       "449148  2018-09-28   56.369999   55.820000   55.935001   56.009998   \n",
       "86562   2018-04-04   54.990002   53.320000   53.570000   54.709999   \n",
       "188156  2016-06-30  106.459999  103.930000  105.540001  106.300003   \n",
       "240262  2019-01-22   44.259998   43.020000   43.880001   44.189999   \n",
       "129426  2016-05-06   42.439999   41.709999   41.980000   42.279999   \n",
       "47379   2018-10-05  157.940002  155.309998  157.169998  155.520004   \n",
       "16183   2015-12-18   82.290001   79.900002   80.970001   79.949997   \n",
       "422905  2018-04-11   44.540001   44.099998   44.330002   44.470001   \n",
       "72603   2018-11-08  244.539993  236.289993  236.800003  244.479996   \n",
       "139849  2017-05-08   18.350000   17.959999   18.070000   18.020000   \n",
       "223505  2016-05-24  158.550003  156.440002  156.669998  157.589996   \n",
       "300790  2016-10-18   70.660004   69.570000   70.529999   70.239998   \n",
       "218296  2019-09-24   54.639999   53.750000   54.160000   54.180000   \n",
       "504623  2017-06-08   63.490002   62.459999   63.259998   62.580002   \n",
       "228537  2016-05-12   44.709999   44.259998   44.540001   44.500000   \n",
       "113451  2016-12-13   44.720001   44.299999   44.450001   44.330002   \n",
       "\n",
       "            Volume   Adj Close  HL_pct_diff  daily_pct_chng ticker       SMA_5  \n",
       "165548   2245000.0   26.059151     0.024409       -0.011066    DRE   28.220000  \n",
       "182649    192200.0  233.890793     0.005592        0.001240    ESS  243.042001  \n",
       "144920   3145000.0   33.018524     0.023575        0.005922    DHI   34.264000  \n",
       "187702   4665600.0   42.798389     0.009078       -0.002938    EXC   44.562000  \n",
       "449148   6800400.0   55.107155     0.009853        0.001341    TJX   55.853999  \n",
       "86562     909500.0   53.323734     0.031320        0.021281   BF.B   54.542001  \n",
       "188156   2336800.0  102.998184     0.024343        0.007201   EXPE  104.349998  \n",
       "240262   2061800.0   44.189999     0.028824        0.007065   HOLX   43.689999  \n",
       "129426    926200.0   39.137180     0.017502        0.007146    CMA   43.430000  \n",
       "47379    1003300.0  153.993591     0.016934       -0.010498    AON  157.154001  \n",
       "16183    1417100.0   74.485817     0.029912       -0.012597    ALK   83.184001  \n",
       "422905   3536200.0   41.298725     0.009977        0.003158     SO   44.978001  \n",
       "72603    1543400.0  241.441803     0.034915        0.032432    BDX  240.967999  \n",
       "139849  11549900.0   16.386559     0.021715       -0.002767   COTY   18.388000  \n",
       "223505   3038800.0  149.594086     0.013488        0.005872     GS  158.200000  \n",
       "300790   5955100.0   66.626831     0.015668       -0.004112    LOW   71.362001  \n",
       "218296   3315100.0   53.689728     0.016558        0.000369    GIS   54.958001  \n",
       "504623   3086600.0   61.694630     0.016491       -0.010749    ZTS   63.214000  \n",
       "228537   2488500.0   41.414680     0.010167       -0.000898    HIG   44.566000  \n",
       "113451   2161500.0   42.526283     0.009481       -0.002700    CHD   44.738000  "
      ]
     },
     "execution_count": 10,
     "metadata": {},
     "output_type": "execute_result"
    }
   ],
   "source": [
    "# Which stocks have the highest volume or traded daily?\n",
    "stocks.sort_values(by = 'Volume', ascending=True).sample(20)"
   ]
  },
  {
   "cell_type": "code",
   "execution_count": 11,
   "metadata": {},
   "outputs": [
    {
     "data": {
      "text/plain": [
       "ticker\n",
       "BAC     7.998436e+10\n",
       "GE      6.550756e+10\n",
       "AMD     5.947630e+10\n",
       "F       3.855452e+10\n",
       "AAPL    3.329668e+10\n",
       "Name: Volume, dtype: float64"
      ]
     },
     "execution_count": 11,
     "metadata": {},
     "output_type": "execute_result"
    }
   ],
   "source": [
    "stocks_volume=stocks.groupby('ticker')['Volume'].sum().sort_values(ascending=False)\n",
    "stocks_volume.head()"
   ]
  },
  {
   "cell_type": "code",
   "execution_count": 12,
   "metadata": {},
   "outputs": [
    {
     "data": {
      "text/html": [
       "<div>\n",
       "<style scoped>\n",
       "    .dataframe tbody tr th:only-of-type {\n",
       "        vertical-align: middle;\n",
       "    }\n",
       "\n",
       "    .dataframe tbody tr th {\n",
       "        vertical-align: top;\n",
       "    }\n",
       "\n",
       "    .dataframe thead th {\n",
       "        text-align: right;\n",
       "    }\n",
       "</style>\n",
       "<table border=\"1\" class=\"dataframe\">\n",
       "  <thead>\n",
       "    <tr style=\"text-align: right;\">\n",
       "      <th></th>\n",
       "      <th>Date</th>\n",
       "      <th>High</th>\n",
       "      <th>Low</th>\n",
       "      <th>Open</th>\n",
       "      <th>Close</th>\n",
       "      <th>Volume</th>\n",
       "      <th>Adj Close</th>\n",
       "      <th>HL_pct_diff</th>\n",
       "      <th>daily_pct_chng</th>\n",
       "      <th>ticker</th>\n",
       "      <th>SMA_5</th>\n",
       "    </tr>\n",
       "  </thead>\n",
       "  <tbody>\n",
       "    <tr>\n",
       "      <td>216364</td>\n",
       "      <td>2016-01-22</td>\n",
       "      <td>27.461538</td>\n",
       "      <td>26.644230</td>\n",
       "      <td>27.451923</td>\n",
       "      <td>27.153847</td>\n",
       "      <td>91384100.0</td>\n",
       "      <td>24.307981</td>\n",
       "      <td>0.030675</td>\n",
       "      <td>-0.010858</td>\n",
       "      <td>GE</td>\n",
       "      <td>27.621154</td>\n",
       "    </tr>\n",
       "    <tr>\n",
       "      <td>216432</td>\n",
       "      <td>2016-04-29</td>\n",
       "      <td>29.778847</td>\n",
       "      <td>29.423077</td>\n",
       "      <td>29.567308</td>\n",
       "      <td>29.567308</td>\n",
       "      <td>30058700.0</td>\n",
       "      <td>26.680386</td>\n",
       "      <td>0.012092</td>\n",
       "      <td>0.000000</td>\n",
       "      <td>GE</td>\n",
       "      <td>29.815385</td>\n",
       "    </tr>\n",
       "    <tr>\n",
       "      <td>216763</td>\n",
       "      <td>2017-08-22</td>\n",
       "      <td>23.788462</td>\n",
       "      <td>23.538462</td>\n",
       "      <td>23.625000</td>\n",
       "      <td>23.653847</td>\n",
       "      <td>31167800.0</td>\n",
       "      <td>22.389925</td>\n",
       "      <td>0.010621</td>\n",
       "      <td>0.001221</td>\n",
       "      <td>GE</td>\n",
       "      <td>23.928846</td>\n",
       "    </tr>\n",
       "    <tr>\n",
       "      <td>216603</td>\n",
       "      <td>2017-01-03</td>\n",
       "      <td>30.615385</td>\n",
       "      <td>30.192308</td>\n",
       "      <td>30.451923</td>\n",
       "      <td>30.471153</td>\n",
       "      <td>33435400.0</td>\n",
       "      <td>28.130621</td>\n",
       "      <td>0.014013</td>\n",
       "      <td>0.000631</td>\n",
       "      <td>GE</td>\n",
       "      <td>30.680770</td>\n",
       "    </tr>\n",
       "    <tr>\n",
       "      <td>217292</td>\n",
       "      <td>2019-09-30</td>\n",
       "      <td>9.100000</td>\n",
       "      <td>8.940000</td>\n",
       "      <td>9.080000</td>\n",
       "      <td>8.940000</td>\n",
       "      <td>35091400.0</td>\n",
       "      <td>8.940000</td>\n",
       "      <td>0.017897</td>\n",
       "      <td>-0.015419</td>\n",
       "      <td>GE</td>\n",
       "      <td>9.206000</td>\n",
       "    </tr>\n",
       "  </tbody>\n",
       "</table>\n",
       "</div>"
      ],
      "text/plain": [
       "              Date       High        Low       Open      Close      Volume  \\\n",
       "216364  2016-01-22  27.461538  26.644230  27.451923  27.153847  91384100.0   \n",
       "216432  2016-04-29  29.778847  29.423077  29.567308  29.567308  30058700.0   \n",
       "216763  2017-08-22  23.788462  23.538462  23.625000  23.653847  31167800.0   \n",
       "216603  2017-01-03  30.615385  30.192308  30.451923  30.471153  33435400.0   \n",
       "217292  2019-09-30   9.100000   8.940000   9.080000   8.940000  35091400.0   \n",
       "\n",
       "        Adj Close  HL_pct_diff  daily_pct_chng ticker      SMA_5  \n",
       "216364  24.307981     0.030675       -0.010858     GE  27.621154  \n",
       "216432  26.680386     0.012092        0.000000     GE  29.815385  \n",
       "216763  22.389925     0.010621        0.001221     GE  23.928846  \n",
       "216603  28.130621     0.014013        0.000631     GE  30.680770  \n",
       "217292   8.940000     0.017897       -0.015419     GE   9.206000  "
      ]
     },
     "execution_count": 12,
     "metadata": {},
     "output_type": "execute_result"
    }
   ],
   "source": [
    "apple = stocks.loc[stocks['ticker'].isin(['GE'])]\n",
    "apple.sample(5)"
   ]
  },
  {
   "cell_type": "code",
   "execution_count": 13,
   "metadata": {},
   "outputs": [
    {
     "data": {
      "text/plain": [
       "Date              0\n",
       "High              0\n",
       "Low               0\n",
       "Open              0\n",
       "Close             0\n",
       "Volume            0\n",
       "Adj Close         0\n",
       "HL_pct_diff       0\n",
       "daily_pct_chng    0\n",
       "ticker            0\n",
       "SMA_5             0\n",
       "dtype: int64"
      ]
     },
     "execution_count": 13,
     "metadata": {},
     "output_type": "execute_result"
    }
   ],
   "source": [
    "# any missing data\n",
    "apple.isnull().sum()"
   ]
  },
  {
   "cell_type": "code",
   "execution_count": 14,
   "metadata": {},
   "outputs": [
    {
     "data": {
      "text/plain": [
       "(1008, 11)"
      ]
     },
     "execution_count": 14,
     "metadata": {},
     "output_type": "execute_result"
    }
   ],
   "source": [
    "# size\n",
    "apple.shape"
   ]
  },
  {
   "cell_type": "code",
   "execution_count": 15,
   "metadata": {},
   "outputs": [
    {
     "data": {
      "text/html": [
       "<div>\n",
       "<style scoped>\n",
       "    .dataframe tbody tr th:only-of-type {\n",
       "        vertical-align: middle;\n",
       "    }\n",
       "\n",
       "    .dataframe tbody tr th {\n",
       "        vertical-align: top;\n",
       "    }\n",
       "\n",
       "    .dataframe thead th {\n",
       "        text-align: right;\n",
       "    }\n",
       "</style>\n",
       "<table border=\"1\" class=\"dataframe\">\n",
       "  <thead>\n",
       "    <tr style=\"text-align: right;\">\n",
       "      <th></th>\n",
       "      <th>Date</th>\n",
       "      <th>High</th>\n",
       "      <th>Low</th>\n",
       "      <th>Open</th>\n",
       "      <th>Close</th>\n",
       "      <th>Volume</th>\n",
       "      <th>Adj Close</th>\n",
       "      <th>HL_pct_diff</th>\n",
       "      <th>daily_pct_chng</th>\n",
       "      <th>ticker</th>\n",
       "      <th>SMA_5</th>\n",
       "    </tr>\n",
       "  </thead>\n",
       "  <tbody>\n",
       "    <tr>\n",
       "      <td>216287</td>\n",
       "      <td>2015-10-01</td>\n",
       "      <td>24.336538</td>\n",
       "      <td>23.836538</td>\n",
       "      <td>24.182692</td>\n",
       "      <td>24.221153</td>\n",
       "      <td>41312500.0</td>\n",
       "      <td>21.521675</td>\n",
       "      <td>0.020976</td>\n",
       "      <td>0.001590</td>\n",
       "      <td>GE</td>\n",
       "      <td>151.669307</td>\n",
       "    </tr>\n",
       "    <tr>\n",
       "      <td>216288</td>\n",
       "      <td>2015-10-02</td>\n",
       "      <td>24.509615</td>\n",
       "      <td>23.875000</td>\n",
       "      <td>23.913462</td>\n",
       "      <td>24.490385</td>\n",
       "      <td>44383200.0</td>\n",
       "      <td>21.760902</td>\n",
       "      <td>0.026581</td>\n",
       "      <td>0.024125</td>\n",
       "      <td>GE</td>\n",
       "      <td>119.193230</td>\n",
       "    </tr>\n",
       "    <tr>\n",
       "      <td>216289</td>\n",
       "      <td>2015-10-05</td>\n",
       "      <td>26.153847</td>\n",
       "      <td>25.211538</td>\n",
       "      <td>25.355770</td>\n",
       "      <td>25.788462</td>\n",
       "      <td>109640200.0</td>\n",
       "      <td>22.914310</td>\n",
       "      <td>0.037376</td>\n",
       "      <td>0.017065</td>\n",
       "      <td>GE</td>\n",
       "      <td>87.559998</td>\n",
       "    </tr>\n",
       "    <tr>\n",
       "      <td>216290</td>\n",
       "      <td>2015-10-06</td>\n",
       "      <td>26.355770</td>\n",
       "      <td>25.923077</td>\n",
       "      <td>25.951923</td>\n",
       "      <td>26.240385</td>\n",
       "      <td>74785700.0</td>\n",
       "      <td>23.315865</td>\n",
       "      <td>0.016691</td>\n",
       "      <td>0.011115</td>\n",
       "      <td>GE</td>\n",
       "      <td>55.923153</td>\n",
       "    </tr>\n",
       "    <tr>\n",
       "      <td>216291</td>\n",
       "      <td>2015-10-07</td>\n",
       "      <td>26.701923</td>\n",
       "      <td>26.269230</td>\n",
       "      <td>26.442308</td>\n",
       "      <td>26.701923</td>\n",
       "      <td>68297800.0</td>\n",
       "      <td>23.725962</td>\n",
       "      <td>0.016471</td>\n",
       "      <td>0.009818</td>\n",
       "      <td>GE</td>\n",
       "      <td>25.611539</td>\n",
       "    </tr>\n",
       "  </tbody>\n",
       "</table>\n",
       "</div>"
      ],
      "text/plain": [
       "              Date       High        Low       Open      Close       Volume  \\\n",
       "216287  2015-10-01  24.336538  23.836538  24.182692  24.221153   41312500.0   \n",
       "216288  2015-10-02  24.509615  23.875000  23.913462  24.490385   44383200.0   \n",
       "216289  2015-10-05  26.153847  25.211538  25.355770  25.788462  109640200.0   \n",
       "216290  2015-10-06  26.355770  25.923077  25.951923  26.240385   74785700.0   \n",
       "216291  2015-10-07  26.701923  26.269230  26.442308  26.701923   68297800.0   \n",
       "\n",
       "        Adj Close  HL_pct_diff  daily_pct_chng ticker       SMA_5  \n",
       "216287  21.521675     0.020976        0.001590     GE  151.669307  \n",
       "216288  21.760902     0.026581        0.024125     GE  119.193230  \n",
       "216289  22.914310     0.037376        0.017065     GE   87.559998  \n",
       "216290  23.315865     0.016691        0.011115     GE   55.923153  \n",
       "216291  23.725962     0.016471        0.009818     GE   25.611539  "
      ]
     },
     "execution_count": 15,
     "metadata": {},
     "output_type": "execute_result"
    }
   ],
   "source": [
    "apple.head()"
   ]
  },
  {
   "cell_type": "code",
   "execution_count": 16,
   "metadata": {},
   "outputs": [
    {
     "data": {
      "text/plain": [
       "count    1008.000000\n",
       "mean       20.215602\n",
       "std         8.536657\n",
       "min         6.451923\n",
       "25%        11.853365\n",
       "50%        23.139422\n",
       "75%        28.701923\n",
       "max        31.663462\n",
       "Name: Close, dtype: float64"
      ]
     },
     "execution_count": 16,
     "metadata": {},
     "output_type": "execute_result"
    }
   ],
   "source": [
    "# establish target variable: High\n",
    "apple['Close'].describe()"
   ]
  },
  {
   "cell_type": "code",
   "execution_count": 17,
   "metadata": {},
   "outputs": [],
   "source": [
    "apple_stock = apple[['Low', 'High','Open','SMA_5', 'Volume', 'daily_pct_chng',]]"
   ]
  },
  {
   "cell_type": "code",
   "execution_count": 18,
   "metadata": {},
   "outputs": [
    {
     "data": {
      "text/html": [
       "<div>\n",
       "<style scoped>\n",
       "    .dataframe tbody tr th:only-of-type {\n",
       "        vertical-align: middle;\n",
       "    }\n",
       "\n",
       "    .dataframe tbody tr th {\n",
       "        vertical-align: top;\n",
       "    }\n",
       "\n",
       "    .dataframe thead th {\n",
       "        text-align: right;\n",
       "    }\n",
       "</style>\n",
       "<table border=\"1\" class=\"dataframe\">\n",
       "  <thead>\n",
       "    <tr style=\"text-align: right;\">\n",
       "      <th></th>\n",
       "      <th>Low</th>\n",
       "      <th>High</th>\n",
       "      <th>Open</th>\n",
       "      <th>SMA_5</th>\n",
       "      <th>Volume</th>\n",
       "      <th>daily_pct_chng</th>\n",
       "    </tr>\n",
       "  </thead>\n",
       "  <tbody>\n",
       "    <tr>\n",
       "      <td>216573</td>\n",
       "      <td>29.480770</td>\n",
       "      <td>29.682692</td>\n",
       "      <td>29.519230</td>\n",
       "      <td>29.623077</td>\n",
       "      <td>18547400.0</td>\n",
       "      <td>0.002932</td>\n",
       "    </tr>\n",
       "    <tr>\n",
       "      <td>216769</td>\n",
       "      <td>23.221153</td>\n",
       "      <td>23.548077</td>\n",
       "      <td>23.548077</td>\n",
       "      <td>23.607692</td>\n",
       "      <td>35231000.0</td>\n",
       "      <td>-0.008575</td>\n",
       "    </tr>\n",
       "    <tr>\n",
       "      <td>217073</td>\n",
       "      <td>7.663462</td>\n",
       "      <td>8.701923</td>\n",
       "      <td>7.711538</td>\n",
       "      <td>8.703846</td>\n",
       "      <td>214048600.0</td>\n",
       "      <td>0.073566</td>\n",
       "    </tr>\n",
       "    <tr>\n",
       "      <td>216395</td>\n",
       "      <td>28.817308</td>\n",
       "      <td>29.057692</td>\n",
       "      <td>28.923077</td>\n",
       "      <td>29.200000</td>\n",
       "      <td>32393800.0</td>\n",
       "      <td>-0.000665</td>\n",
       "    </tr>\n",
       "    <tr>\n",
       "      <td>216435</td>\n",
       "      <td>28.740385</td>\n",
       "      <td>29.250000</td>\n",
       "      <td>29.230770</td>\n",
       "      <td>29.675000</td>\n",
       "      <td>41386300.0</td>\n",
       "      <td>-0.010855</td>\n",
       "    </tr>\n",
       "  </tbody>\n",
       "</table>\n",
       "</div>"
      ],
      "text/plain": [
       "              Low       High       Open      SMA_5       Volume  \\\n",
       "216573  29.480770  29.682692  29.519230  29.623077   18547400.0   \n",
       "216769  23.221153  23.548077  23.548077  23.607692   35231000.0   \n",
       "217073   7.663462   8.701923   7.711538   8.703846  214048600.0   \n",
       "216395  28.817308  29.057692  28.923077  29.200000   32393800.0   \n",
       "216435  28.740385  29.250000  29.230770  29.675000   41386300.0   \n",
       "\n",
       "        daily_pct_chng  \n",
       "216573        0.002932  \n",
       "216769       -0.008575  \n",
       "217073        0.073566  \n",
       "216395       -0.000665  \n",
       "216435       -0.010855  "
      ]
     },
     "execution_count": 18,
     "metadata": {},
     "output_type": "execute_result"
    }
   ],
   "source": [
    "apple_stock.sample(5)"
   ]
  },
  {
   "cell_type": "code",
   "execution_count": 19,
   "metadata": {},
   "outputs": [],
   "source": [
    "#apple_stock['ticker'] = apple['ticker']"
   ]
  },
  {
   "cell_type": "code",
   "execution_count": 19,
   "metadata": {},
   "outputs": [
    {
     "data": {
      "text/html": [
       "<div>\n",
       "<style scoped>\n",
       "    .dataframe tbody tr th:only-of-type {\n",
       "        vertical-align: middle;\n",
       "    }\n",
       "\n",
       "    .dataframe tbody tr th {\n",
       "        vertical-align: top;\n",
       "    }\n",
       "\n",
       "    .dataframe thead th {\n",
       "        text-align: right;\n",
       "    }\n",
       "</style>\n",
       "<table border=\"1\" class=\"dataframe\">\n",
       "  <thead>\n",
       "    <tr style=\"text-align: right;\">\n",
       "      <th></th>\n",
       "      <th>Low</th>\n",
       "      <th>High</th>\n",
       "      <th>Open</th>\n",
       "      <th>SMA_5</th>\n",
       "      <th>Volume</th>\n",
       "      <th>daily_pct_chng</th>\n",
       "    </tr>\n",
       "  </thead>\n",
       "  <tbody>\n",
       "    <tr>\n",
       "      <td>216287</td>\n",
       "      <td>23.836538</td>\n",
       "      <td>24.336538</td>\n",
       "      <td>24.182692</td>\n",
       "      <td>151.669307</td>\n",
       "      <td>41312500.0</td>\n",
       "      <td>0.001590</td>\n",
       "    </tr>\n",
       "    <tr>\n",
       "      <td>216288</td>\n",
       "      <td>23.875000</td>\n",
       "      <td>24.509615</td>\n",
       "      <td>23.913462</td>\n",
       "      <td>119.193230</td>\n",
       "      <td>44383200.0</td>\n",
       "      <td>0.024125</td>\n",
       "    </tr>\n",
       "    <tr>\n",
       "      <td>216289</td>\n",
       "      <td>25.211538</td>\n",
       "      <td>26.153847</td>\n",
       "      <td>25.355770</td>\n",
       "      <td>87.559998</td>\n",
       "      <td>109640200.0</td>\n",
       "      <td>0.017065</td>\n",
       "    </tr>\n",
       "    <tr>\n",
       "      <td>216290</td>\n",
       "      <td>25.923077</td>\n",
       "      <td>26.355770</td>\n",
       "      <td>25.951923</td>\n",
       "      <td>55.923153</td>\n",
       "      <td>74785700.0</td>\n",
       "      <td>0.011115</td>\n",
       "    </tr>\n",
       "    <tr>\n",
       "      <td>216291</td>\n",
       "      <td>26.269230</td>\n",
       "      <td>26.701923</td>\n",
       "      <td>26.442308</td>\n",
       "      <td>25.611539</td>\n",
       "      <td>68297800.0</td>\n",
       "      <td>0.009818</td>\n",
       "    </tr>\n",
       "  </tbody>\n",
       "</table>\n",
       "</div>"
      ],
      "text/plain": [
       "              Low       High       Open       SMA_5       Volume  \\\n",
       "216287  23.836538  24.336538  24.182692  151.669307   41312500.0   \n",
       "216288  23.875000  24.509615  23.913462  119.193230   44383200.0   \n",
       "216289  25.211538  26.153847  25.355770   87.559998  109640200.0   \n",
       "216290  25.923077  26.355770  25.951923   55.923153   74785700.0   \n",
       "216291  26.269230  26.701923  26.442308   25.611539   68297800.0   \n",
       "\n",
       "        daily_pct_chng  \n",
       "216287        0.001590  \n",
       "216288        0.024125  \n",
       "216289        0.017065  \n",
       "216290        0.011115  \n",
       "216291        0.009818  "
      ]
     },
     "execution_count": 19,
     "metadata": {},
     "output_type": "execute_result"
    }
   ],
   "source": [
    "apple_stock.head()"
   ]
  },
  {
   "cell_type": "code",
   "execution_count": 21,
   "metadata": {},
   "outputs": [],
   "source": [
    "#apple.to_csv('BAC.csv')"
   ]
  },
  {
   "cell_type": "code",
   "execution_count": 20,
   "metadata": {},
   "outputs": [],
   "source": [
    "# standardize variables\n",
    "from sklearn.preprocessing import StandardScaler\n",
    "std_scaler =StandardScaler()"
   ]
  },
  {
   "cell_type": "code",
   "execution_count": 21,
   "metadata": {},
   "outputs": [
    {
     "data": {
      "text/plain": [
       "StandardScaler(copy=True, with_mean=True, with_std=True)"
      ]
     },
     "execution_count": 21,
     "metadata": {},
     "output_type": "execute_result"
    }
   ],
   "source": [
    "#std_scaler.fit(stock_high)\n",
    "std_scaler.fit(apple_stock)"
   ]
  },
  {
   "cell_type": "code",
   "execution_count": 22,
   "metadata": {},
   "outputs": [],
   "source": [
    "scaled_stock =std_scaler.transform(apple_stock)"
   ]
  },
  {
   "cell_type": "code",
   "execution_count": 23,
   "metadata": {},
   "outputs": [],
   "source": [
    "import pickle\n",
    "filename = open('GE_fitted_scaler.pkl', 'wb')\n",
    "pickle.dump(scaled_stock, filename)\n",
    "filename.close()"
   ]
  },
  {
   "cell_type": "code",
   "execution_count": 24,
   "metadata": {},
   "outputs": [
    {
     "data": {
      "text/html": [
       "<div>\n",
       "<style scoped>\n",
       "    .dataframe tbody tr th:only-of-type {\n",
       "        vertical-align: middle;\n",
       "    }\n",
       "\n",
       "    .dataframe tbody tr th {\n",
       "        vertical-align: top;\n",
       "    }\n",
       "\n",
       "    .dataframe thead th {\n",
       "        text-align: right;\n",
       "    }\n",
       "</style>\n",
       "<table border=\"1\" class=\"dataframe\">\n",
       "  <thead>\n",
       "    <tr style=\"text-align: right;\">\n",
       "      <th></th>\n",
       "      <th>Low</th>\n",
       "      <th>High</th>\n",
       "      <th>Open</th>\n",
       "      <th>SMA_5</th>\n",
       "      <th>Volume</th>\n",
       "      <th>daily_pct_chng</th>\n",
       "    </tr>\n",
       "  </thead>\n",
       "  <tbody>\n",
       "    <tr>\n",
       "      <td>0</td>\n",
       "      <td>0.446300</td>\n",
       "      <td>0.460194</td>\n",
       "      <td>0.465262</td>\n",
       "      <td>12.784521</td>\n",
       "      <td>-0.469484</td>\n",
       "      <td>0.140191</td>\n",
       "    </tr>\n",
       "    <tr>\n",
       "      <td>1</td>\n",
       "      <td>0.450818</td>\n",
       "      <td>0.480470</td>\n",
       "      <td>0.433639</td>\n",
       "      <td>9.613112</td>\n",
       "      <td>-0.408591</td>\n",
       "      <td>1.560255</td>\n",
       "    </tr>\n",
       "    <tr>\n",
       "      <td>2</td>\n",
       "      <td>0.607799</td>\n",
       "      <td>0.673101</td>\n",
       "      <td>0.603051</td>\n",
       "      <td>6.524011</td>\n",
       "      <td>0.885470</td>\n",
       "      <td>1.115322</td>\n",
       "    </tr>\n",
       "    <tr>\n",
       "      <td>3</td>\n",
       "      <td>0.691372</td>\n",
       "      <td>0.696758</td>\n",
       "      <td>0.673075</td>\n",
       "      <td>3.434556</td>\n",
       "      <td>0.194297</td>\n",
       "      <td>0.740403</td>\n",
       "    </tr>\n",
       "    <tr>\n",
       "      <td>4</td>\n",
       "      <td>0.732030</td>\n",
       "      <td>0.737311</td>\n",
       "      <td>0.730675</td>\n",
       "      <td>0.474516</td>\n",
       "      <td>0.065641</td>\n",
       "      <td>0.658667</td>\n",
       "    </tr>\n",
       "  </tbody>\n",
       "</table>\n",
       "</div>"
      ],
      "text/plain": [
       "        Low      High      Open      SMA_5    Volume  daily_pct_chng\n",
       "0  0.446300  0.460194  0.465262  12.784521 -0.469484        0.140191\n",
       "1  0.450818  0.480470  0.433639   9.613112 -0.408591        1.560255\n",
       "2  0.607799  0.673101  0.603051   6.524011  0.885470        1.115322\n",
       "3  0.691372  0.696758  0.673075   3.434556  0.194297        0.740403\n",
       "4  0.732030  0.737311  0.730675   0.474516  0.065641        0.658667"
      ]
     },
     "execution_count": 24,
     "metadata": {},
     "output_type": "execute_result"
    }
   ],
   "source": [
    "#scaled_df=pd.DataFrame(scaled_stock, columns = stock_high.columns)\n",
    "scaled_df=pd.DataFrame(scaled_stock, columns = apple_stock.columns)\n",
    "scaled_df.head()"
   ]
  },
  {
   "cell_type": "code",
   "execution_count": 25,
   "metadata": {},
   "outputs": [
    {
     "data": {
      "text/plain": [
       "Low               3.720569e-16\n",
       "High              2.806397e-16\n",
       "Open             -3.639064e-16\n",
       "SMA_5            -6.674555e-16\n",
       "Volume            1.789243e-16\n",
       "daily_pct_chng   -1.044689e-16\n",
       "dtype: float64"
      ]
     },
     "execution_count": 25,
     "metadata": {},
     "output_type": "execute_result"
    }
   ],
   "source": [
    "scaled_df.mean() "
   ]
  },
  {
   "cell_type": "code",
   "execution_count": 26,
   "metadata": {},
   "outputs": [
    {
     "data": {
      "text/plain": [
       "Low               1.000496\n",
       "High              1.000496\n",
       "Open              1.000496\n",
       "SMA_5             1.000496\n",
       "Volume            1.000496\n",
       "daily_pct_chng    1.000496\n",
       "dtype: float64"
      ]
     },
     "execution_count": 26,
     "metadata": {},
     "output_type": "execute_result"
    }
   ],
   "source": [
    "scaled_df.std()"
   ]
  },
  {
   "cell_type": "code",
   "execution_count": 27,
   "metadata": {},
   "outputs": [
    {
     "data": {
      "text/plain": [
       "<bound method NDFrame.head of 216287    24.221153\n",
       "216288    24.490385\n",
       "216289    25.788462\n",
       "216290    26.240385\n",
       "216291    26.701923\n",
       "            ...    \n",
       "217290     9.020000\n",
       "217291     9.040000\n",
       "217292     8.940000\n",
       "217293     8.610000\n",
       "217294     8.510000\n",
       "Name: Close, Length: 1008, dtype: float64>"
      ]
     },
     "execution_count": 27,
     "metadata": {},
     "output_type": "execute_result"
    }
   ],
   "source": [
    "# target variable\n",
    "#y = top_5['Close']\n",
    "y = apple['Close']\n",
    "y.shape\n",
    "y.head"
   ]
  },
  {
   "cell_type": "code",
   "execution_count": 28,
   "metadata": {},
   "outputs": [
    {
     "data": {
      "text/html": [
       "<div>\n",
       "<style scoped>\n",
       "    .dataframe tbody tr th:only-of-type {\n",
       "        vertical-align: middle;\n",
       "    }\n",
       "\n",
       "    .dataframe tbody tr th {\n",
       "        vertical-align: top;\n",
       "    }\n",
       "\n",
       "    .dataframe thead th {\n",
       "        text-align: right;\n",
       "    }\n",
       "</style>\n",
       "<table border=\"1\" class=\"dataframe\">\n",
       "  <thead>\n",
       "    <tr style=\"text-align: right;\">\n",
       "      <th></th>\n",
       "      <th>Low</th>\n",
       "      <th>High</th>\n",
       "      <th>Open</th>\n",
       "      <th>SMA_5</th>\n",
       "      <th>Volume</th>\n",
       "      <th>daily_pct_chng</th>\n",
       "    </tr>\n",
       "  </thead>\n",
       "  <tbody>\n",
       "    <tr>\n",
       "      <td>970</td>\n",
       "      <td>-1.282217</td>\n",
       "      <td>-1.280330</td>\n",
       "      <td>-1.262879</td>\n",
       "      <td>-1.088289</td>\n",
       "      <td>0.232671</td>\n",
       "      <td>-2.089404</td>\n",
       "    </tr>\n",
       "    <tr>\n",
       "      <td>3</td>\n",
       "      <td>0.691372</td>\n",
       "      <td>0.696758</td>\n",
       "      <td>0.673075</td>\n",
       "      <td>3.434556</td>\n",
       "      <td>0.194297</td>\n",
       "      <td>0.740403</td>\n",
       "    </tr>\n",
       "    <tr>\n",
       "      <td>536</td>\n",
       "      <td>-0.377008</td>\n",
       "      <td>-0.320467</td>\n",
       "      <td>-0.397611</td>\n",
       "      <td>-0.171877</td>\n",
       "      <td>1.688644</td>\n",
       "      <td>2.739104</td>\n",
       "    </tr>\n",
       "    <tr>\n",
       "      <td>229</td>\n",
       "      <td>1.166836</td>\n",
       "      <td>1.151861</td>\n",
       "      <td>1.146300</td>\n",
       "      <td>0.924286</td>\n",
       "      <td>-0.850496</td>\n",
       "      <td>0.403752</td>\n",
       "    </tr>\n",
       "    <tr>\n",
       "      <td>420</td>\n",
       "      <td>0.765911</td>\n",
       "      <td>0.756462</td>\n",
       "      <td>0.772463</td>\n",
       "      <td>0.569916</td>\n",
       "      <td>-0.525496</td>\n",
       "      <td>0.062576</td>\n",
       "    </tr>\n",
       "    <tr>\n",
       "      <td>39</td>\n",
       "      <td>1.068581</td>\n",
       "      <td>1.061742</td>\n",
       "      <td>1.085311</td>\n",
       "      <td>0.862501</td>\n",
       "      <td>-0.171763</td>\n",
       "      <td>-0.535895</td>\n",
       "    </tr>\n",
       "    <tr>\n",
       "      <td>476</td>\n",
       "      <td>0.411290</td>\n",
       "      <td>0.395983</td>\n",
       "      <td>0.399756</td>\n",
       "      <td>0.310195</td>\n",
       "      <td>-0.670656</td>\n",
       "      <td>0.116910</td>\n",
       "    </tr>\n",
       "    <tr>\n",
       "      <td>80</td>\n",
       "      <td>0.788498</td>\n",
       "      <td>0.828557</td>\n",
       "      <td>0.809734</td>\n",
       "      <td>0.661936</td>\n",
       "      <td>-0.337643</td>\n",
       "      <td>-0.406957</td>\n",
       "    </tr>\n",
       "    <tr>\n",
       "      <td>436</td>\n",
       "      <td>0.752358</td>\n",
       "      <td>0.727173</td>\n",
       "      <td>0.740840</td>\n",
       "      <td>0.606536</td>\n",
       "      <td>-0.700920</td>\n",
       "      <td>0.085645</td>\n",
       "    </tr>\n",
       "    <tr>\n",
       "      <td>0</td>\n",
       "      <td>0.446300</td>\n",
       "      <td>0.460194</td>\n",
       "      <td>0.465262</td>\n",
       "      <td>12.784521</td>\n",
       "      <td>-0.469484</td>\n",
       "      <td>0.140191</td>\n",
       "    </tr>\n",
       "  </tbody>\n",
       "</table>\n",
       "</div>"
      ],
      "text/plain": [
       "          Low      High      Open      SMA_5    Volume  daily_pct_chng\n",
       "970 -1.282217 -1.280330 -1.262879  -1.088289  0.232671       -2.089404\n",
       "3    0.691372  0.696758  0.673075   3.434556  0.194297        0.740403\n",
       "536 -0.377008 -0.320467 -0.397611  -0.171877  1.688644        2.739104\n",
       "229  1.166836  1.151861  1.146300   0.924286 -0.850496        0.403752\n",
       "420  0.765911  0.756462  0.772463   0.569916 -0.525496        0.062576\n",
       "39   1.068581  1.061742  1.085311   0.862501 -0.171763       -0.535895\n",
       "476  0.411290  0.395983  0.399756   0.310195 -0.670656        0.116910\n",
       "80   0.788498  0.828557  0.809734   0.661936 -0.337643       -0.406957\n",
       "436  0.752358  0.727173  0.740840   0.606536 -0.700920        0.085645\n",
       "0    0.446300  0.460194  0.465262  12.784521 -0.469484        0.140191"
      ]
     },
     "execution_count": 28,
     "metadata": {},
     "output_type": "execute_result"
    }
   ],
   "source": [
    "X= apple.drop('Close', axis=1)\n",
    "X = scaled_df.copy()\n",
    "X.shape\n",
    "X.sample(10)"
   ]
  },
  {
   "cell_type": "code",
   "execution_count": 29,
   "metadata": {},
   "outputs": [],
   "source": [
    "# train, test, split\n",
    "X_train, X_test, y_train, y_test = train_test_split(X,y, test_size=.15, random_state=42)"
   ]
  },
  {
   "cell_type": "code",
   "execution_count": 30,
   "metadata": {},
   "outputs": [
    {
     "data": {
      "text/plain": [
       "LinearRegression(copy_X=True, fit_intercept=True, n_jobs=None, normalize=False)"
      ]
     },
     "execution_count": 30,
     "metadata": {},
     "output_type": "execute_result"
    }
   ],
   "source": [
    "# instantiate\n",
    "mystock= LinearRegression()\n",
    "#linreg=LinearRegression()\n",
    "mystock.fit(X,y)"
   ]
  },
  {
   "cell_type": "code",
   "execution_count": 31,
   "metadata": {},
   "outputs": [],
   "source": [
    "# pickle final model\n",
    "filename = open('GE_final_model.pkl', 'wb')\n",
    "pickle.dump(mystock, filename)\n",
    "filename.close()"
   ]
  },
  {
   "cell_type": "code",
   "execution_count": 32,
   "metadata": {},
   "outputs": [],
   "source": [
    "# fit model  to training dataset\n",
    "mystock.fit(X_train, y_train)  # normalize = False, data is expected to be already centered\n",
    "y_pred = mystock.predict(X_test)"
   ]
  },
  {
   "cell_type": "code",
   "execution_count": 33,
   "metadata": {},
   "outputs": [
    {
     "data": {
      "text/plain": [
       "array([10.16099304, 12.76982127, 12.66357868, 22.39489299, 28.54957966,\n",
       "       14.04576544, 14.04106863, 19.40329678, 30.26384814, 27.49597778,\n",
       "        7.54168526, 28.44158515, 10.2637773 , 24.5276929 , 28.76351769,\n",
       "       13.85674161, 12.57605393,  7.86391753, 29.9379864 , 28.30568168,\n",
       "       10.24460523, 14.14068836, 30.12917683, 29.15707687, 13.93065761,\n",
       "       29.22426579, 28.7291374 , 29.60076498, 28.63983799,  9.16624887,\n",
       "       12.50394243,  8.50527171, 27.81688485, 28.57072266, 12.14922991,\n",
       "       27.50723894, 10.20061419, 29.94080723, 27.780967  , 28.48317919,\n",
       "       23.25660713, 19.41463524, 29.1849808 , 10.09347276, 30.56090933,\n",
       "       29.73715158, 28.87281427,  9.55734054,  8.00116464,  9.84995596,\n",
       "       13.33584763, 10.67992145, 29.62412118, 13.00680145, 17.15684988,\n",
       "       12.28128788, 28.97444145, 29.53168267, 28.415472  , 29.29893305,\n",
       "        9.31214924, 27.67676022, 26.8824075 , 10.11278448,  7.10526173,\n",
       "       23.34063499, 25.01160301, 31.56578922, 24.04764596, 10.80313246,\n",
       "       29.13054683, 30.04687176, 26.72949875, 28.94155609, 11.93020347,\n",
       "       21.64674047, 25.72737795, 10.21646355, 29.26471034, 17.10180447,\n",
       "        9.46415591, 28.82562573, 29.18990535, 27.42585916, 28.11490029,\n",
       "        9.93847629, 12.30032903, 10.11238268, 30.16766361, 13.75081705,\n",
       "       14.32588654,  7.25390868,  6.77624115, 26.57316422, 12.16370576,\n",
       "       30.72209347, 28.90529766, 29.13356908, 26.95080278, 29.96547575,\n",
       "        8.41526085, 17.52267536, 30.06992797, 13.90983476, 17.26846985,\n",
       "       30.1039203 ,  7.9253276 ,  8.90400486,  9.5112147 , 10.56325899,\n",
       "        8.33500678,  6.87233664, 12.7677257 ,  9.250518  , 30.9105958 ,\n",
       "       27.93243857, 11.88692252, 22.26301159, 30.63499399, 17.5102924 ,\n",
       "       29.87291819,  9.91447474, 24.6595372 , 10.50258534, 27.67572603,\n",
       "       23.97566799, 28.82315341,  8.66079741, 25.57029732, 29.84489726,\n",
       "       12.09924823, 14.78601332, 10.63025073, 25.99395874,  8.95135614,\n",
       "       19.38461292, 29.24336626, 29.82073977, 19.37652667, 28.44530899,\n",
       "       27.78073577, 28.9466775 , 28.62550132, 28.22914148,  9.88879223,\n",
       "       10.19821856, 12.15853999, 31.61122563,  7.43819692, 28.96128435,\n",
       "       30.10692488,  9.94411458])"
      ]
     },
     "execution_count": 33,
     "metadata": {},
     "output_type": "execute_result"
    }
   ],
   "source": [
    "# predict the y_values on testing dataset\n",
    "y_pred = mystock.predict(X_test)\n",
    "y_pred"
   ]
  },
  {
   "cell_type": "code",
   "execution_count": 34,
   "metadata": {},
   "outputs": [
    {
     "data": {
      "text/plain": [
       "[10.16, 12.77, 12.66, 22.39, 28.55]"
      ]
     },
     "execution_count": 34,
     "metadata": {},
     "output_type": "execute_result"
    }
   ],
   "source": [
    "#looking at prediction and comparing to true values\n",
    "[round(x,2)for x in y_pred[:5]]"
   ]
  },
  {
   "cell_type": "code",
   "execution_count": 35,
   "metadata": {},
   "outputs": [
    {
     "data": {
      "text/plain": [
       "[10.220000267028807,\n",
       " 12.769230842590332,\n",
       " 12.692307472229006,\n",
       " 22.461538314819336,\n",
       " 28.61538505554199]"
      ]
     },
     "execution_count": 35,
     "metadata": {},
     "output_type": "execute_result"
    }
   ],
   "source": [
    "list(y_test[:5])"
   ]
  },
  {
   "cell_type": "code",
   "execution_count": 36,
   "metadata": {},
   "outputs": [
    {
     "name": "stdout",
     "output_type": "stream",
     "text": [
      "on average my model errs by 0.08326393499775\n"
     ]
    }
   ],
   "source": [
    "# root mean Sq error\n",
    "rmse = sqrt(metrics.mean_squared_error(y_test, y_pred))\n",
    "print ('on average my model errs by', rmse)"
   ]
  },
  {
   "cell_type": "code",
   "execution_count": 37,
   "metadata": {},
   "outputs": [
    {
     "data": {
      "text/plain": [
       "20.21460013077638"
      ]
     },
     "execution_count": 37,
     "metadata": {},
     "output_type": "execute_result"
    }
   ],
   "source": [
    "avg_val= y_train.mean()\n",
    "avg_val"
   ]
  },
  {
   "cell_type": "code",
   "execution_count": 38,
   "metadata": {},
   "outputs": [
    {
     "name": "stdout",
     "output_type": "stream",
     "text": [
      "Close -9\n"
     ]
    }
   ],
   "source": [
    "comparison_array=np.full((len(y_test), ), avg_val)\n",
    "coin_flip = sqrt(metrics.mean_squared_error(y_test, comparison_array))\n",
    "print ('Close', round(rmse-coin_flip))"
   ]
  },
  {
   "cell_type": "code",
   "execution_count": 39,
   "metadata": {},
   "outputs": [
    {
     "data": {
      "text/plain": [
       "0.9999087464163945"
      ]
     },
     "execution_count": 39,
     "metadata": {},
     "output_type": "execute_result"
    }
   ],
   "source": [
    "r2=metrics.r2_score(y_test, y_pred)\n",
    "r2"
   ]
  },
  {
   "cell_type": "code",
   "execution_count": 40,
   "metadata": {},
   "outputs": [
    {
     "data": {
      "text/plain": [
       "array([20.21460013, 20.21460013, 20.21460013, 20.21460013, 20.21460013,\n",
       "       20.21460013, 20.21460013, 20.21460013, 20.21460013, 20.21460013,\n",
       "       20.21460013, 20.21460013, 20.21460013, 20.21460013, 20.21460013,\n",
       "       20.21460013, 20.21460013, 20.21460013, 20.21460013, 20.21460013,\n",
       "       20.21460013, 20.21460013, 20.21460013, 20.21460013, 20.21460013,\n",
       "       20.21460013, 20.21460013, 20.21460013, 20.21460013, 20.21460013,\n",
       "       20.21460013, 20.21460013, 20.21460013, 20.21460013, 20.21460013,\n",
       "       20.21460013, 20.21460013, 20.21460013, 20.21460013, 20.21460013,\n",
       "       20.21460013, 20.21460013, 20.21460013, 20.21460013, 20.21460013,\n",
       "       20.21460013, 20.21460013, 20.21460013, 20.21460013, 20.21460013,\n",
       "       20.21460013, 20.21460013, 20.21460013, 20.21460013, 20.21460013,\n",
       "       20.21460013, 20.21460013, 20.21460013, 20.21460013, 20.21460013,\n",
       "       20.21460013, 20.21460013, 20.21460013, 20.21460013, 20.21460013,\n",
       "       20.21460013, 20.21460013, 20.21460013, 20.21460013, 20.21460013,\n",
       "       20.21460013, 20.21460013, 20.21460013, 20.21460013, 20.21460013,\n",
       "       20.21460013, 20.21460013, 20.21460013, 20.21460013, 20.21460013,\n",
       "       20.21460013, 20.21460013, 20.21460013, 20.21460013, 20.21460013,\n",
       "       20.21460013, 20.21460013, 20.21460013, 20.21460013, 20.21460013,\n",
       "       20.21460013, 20.21460013, 20.21460013, 20.21460013, 20.21460013,\n",
       "       20.21460013, 20.21460013, 20.21460013, 20.21460013, 20.21460013,\n",
       "       20.21460013, 20.21460013, 20.21460013, 20.21460013, 20.21460013,\n",
       "       20.21460013, 20.21460013, 20.21460013, 20.21460013, 20.21460013,\n",
       "       20.21460013, 20.21460013, 20.21460013, 20.21460013, 20.21460013,\n",
       "       20.21460013, 20.21460013, 20.21460013, 20.21460013, 20.21460013,\n",
       "       20.21460013, 20.21460013, 20.21460013, 20.21460013, 20.21460013,\n",
       "       20.21460013, 20.21460013, 20.21460013, 20.21460013, 20.21460013,\n",
       "       20.21460013, 20.21460013, 20.21460013, 20.21460013, 20.21460013,\n",
       "       20.21460013, 20.21460013, 20.21460013, 20.21460013, 20.21460013,\n",
       "       20.21460013, 20.21460013, 20.21460013, 20.21460013, 20.21460013,\n",
       "       20.21460013, 20.21460013, 20.21460013, 20.21460013, 20.21460013,\n",
       "       20.21460013, 20.21460013])"
      ]
     },
     "execution_count": 40,
     "metadata": {},
     "output_type": "execute_result"
    }
   ],
   "source": [
    "comparison = np.full(len(y_test), avg_val)\n",
    "comparison"
   ]
  },
  {
   "cell_type": "code",
   "execution_count": 41,
   "metadata": {},
   "outputs": [
    {
     "data": {
      "text/plain": [
       "8.716298471047647"
      ]
     },
     "execution_count": 41,
     "metadata": {},
     "output_type": "execute_result"
    }
   ],
   "source": [
    "sqrt(metrics.mean_squared_error(y_test, comparison))"
   ]
  },
  {
   "cell_type": "code",
   "execution_count": 42,
   "metadata": {},
   "outputs": [
    {
     "data": {
      "text/plain": [
       "array([10.16099304, 12.76982127, 12.66357868, 22.39489299, 28.54957966,\n",
       "       14.04576544, 14.04106863, 19.40329678, 30.26384814, 27.49597778,\n",
       "        7.54168526, 28.44158515, 10.2637773 , 24.5276929 , 28.76351769,\n",
       "       13.85674161, 12.57605393,  7.86391753, 29.9379864 , 28.30568168,\n",
       "       10.24460523, 14.14068836, 30.12917683, 29.15707687, 13.93065761,\n",
       "       29.22426579, 28.7291374 , 29.60076498, 28.63983799,  9.16624887,\n",
       "       12.50394243,  8.50527171, 27.81688485, 28.57072266, 12.14922991,\n",
       "       27.50723894, 10.20061419, 29.94080723, 27.780967  , 28.48317919,\n",
       "       23.25660713, 19.41463524, 29.1849808 , 10.09347276, 30.56090933,\n",
       "       29.73715158, 28.87281427,  9.55734054,  8.00116464,  9.84995596,\n",
       "       13.33584763, 10.67992145, 29.62412118, 13.00680145, 17.15684988,\n",
       "       12.28128788, 28.97444145, 29.53168267, 28.415472  , 29.29893305,\n",
       "        9.31214924, 27.67676022, 26.8824075 , 10.11278448,  7.10526173,\n",
       "       23.34063499, 25.01160301, 31.56578922, 24.04764596, 10.80313246,\n",
       "       29.13054683, 30.04687176, 26.72949875, 28.94155609, 11.93020347,\n",
       "       21.64674047, 25.72737795, 10.21646355, 29.26471034, 17.10180447,\n",
       "        9.46415591, 28.82562573, 29.18990535, 27.42585916, 28.11490029,\n",
       "        9.93847629, 12.30032903, 10.11238268, 30.16766361, 13.75081705,\n",
       "       14.32588654,  7.25390868,  6.77624115, 26.57316422, 12.16370576,\n",
       "       30.72209347, 28.90529766, 29.13356908, 26.95080278, 29.96547575,\n",
       "        8.41526085, 17.52267536, 30.06992797, 13.90983476, 17.26846985,\n",
       "       30.1039203 ,  7.9253276 ,  8.90400486,  9.5112147 , 10.56325899,\n",
       "        8.33500678,  6.87233664, 12.7677257 ,  9.250518  , 30.9105958 ,\n",
       "       27.93243857, 11.88692252, 22.26301159, 30.63499399, 17.5102924 ,\n",
       "       29.87291819,  9.91447474, 24.6595372 , 10.50258534, 27.67572603,\n",
       "       23.97566799, 28.82315341,  8.66079741, 25.57029732, 29.84489726,\n",
       "       12.09924823, 14.78601332, 10.63025073, 25.99395874,  8.95135614,\n",
       "       19.38461292, 29.24336626, 29.82073977, 19.37652667, 28.44530899,\n",
       "       27.78073577, 28.9466775 , 28.62550132, 28.22914148,  9.88879223,\n",
       "       10.19821856, 12.15853999, 31.61122563,  7.43819692, 28.96128435,\n",
       "       30.10692488,  9.94411458])"
      ]
     },
     "execution_count": 42,
     "metadata": {},
     "output_type": "execute_result"
    }
   ],
   "source": [
    "y_pred"
   ]
  },
  {
   "cell_type": "code",
   "execution_count": 43,
   "metadata": {},
   "outputs": [
    {
     "data": {
      "image/png": "[encoded data removed]",
      "text/plain": [
       "<Figure size 864x936 with 1 Axes>"
      ]
     },
     "metadata": {
      "needs_background": "light"
     },
     "output_type": "display_data"
    }
   ],
   "source": [
    "plt.figure(figsize = (12,13))\n",
    "sns.regplot(x=y_pred, y=y_test);"
   ]
  },
  {
   "cell_type": "code",
   "execution_count": 44,
   "metadata": {},
   "outputs": [
    {
     "name": "stderr",
     "output_type": "stream",
     "text": [
      "/Library/Frameworks/Python.framework/Versions/3.7/lib/python3.7/site-packages/ipykernel_launcher.py:1: SettingWithCopyWarning: \n",
      "A value is trying to be set on a copy of a slice from a DataFrame.\n",
      "Try using .loc[row_indexer,col_indexer] = value instead\n",
      "\n",
      "See the caveats in the documentation: http://pandas.pydata.org/pandas-docs/stable/user_guide/indexing.html#returning-a-view-versus-a-copy\n",
      "  \"\"\"Entry point for launching an IPython kernel.\n"
     ]
    }
   ],
   "source": [
    "apple_stock['ticker'] = apple['ticker']"
   ]
  },
  {
   "cell_type": "code",
   "execution_count": 45,
   "metadata": {},
   "outputs": [
    {
     "data": {
      "text/html": [
       "<div>\n",
       "<style scoped>\n",
       "    .dataframe tbody tr th:only-of-type {\n",
       "        vertical-align: middle;\n",
       "    }\n",
       "\n",
       "    .dataframe tbody tr th {\n",
       "        vertical-align: top;\n",
       "    }\n",
       "\n",
       "    .dataframe thead th {\n",
       "        text-align: right;\n",
       "    }\n",
       "</style>\n",
       "<table border=\"1\" class=\"dataframe\">\n",
       "  <thead>\n",
       "    <tr style=\"text-align: right;\">\n",
       "      <th></th>\n",
       "      <th>Low</th>\n",
       "      <th>High</th>\n",
       "      <th>Open</th>\n",
       "      <th>SMA_5</th>\n",
       "      <th>Volume</th>\n",
       "      <th>daily_pct_chng</th>\n",
       "      <th>ticker</th>\n",
       "    </tr>\n",
       "  </thead>\n",
       "  <tbody>\n",
       "    <tr>\n",
       "      <td>216287</td>\n",
       "      <td>23.836538</td>\n",
       "      <td>24.336538</td>\n",
       "      <td>24.182692</td>\n",
       "      <td>151.669307</td>\n",
       "      <td>41312500.0</td>\n",
       "      <td>0.001590</td>\n",
       "      <td>GE</td>\n",
       "    </tr>\n",
       "    <tr>\n",
       "      <td>216288</td>\n",
       "      <td>23.875000</td>\n",
       "      <td>24.509615</td>\n",
       "      <td>23.913462</td>\n",
       "      <td>119.193230</td>\n",
       "      <td>44383200.0</td>\n",
       "      <td>0.024125</td>\n",
       "      <td>GE</td>\n",
       "    </tr>\n",
       "    <tr>\n",
       "      <td>216289</td>\n",
       "      <td>25.211538</td>\n",
       "      <td>26.153847</td>\n",
       "      <td>25.355770</td>\n",
       "      <td>87.559998</td>\n",
       "      <td>109640200.0</td>\n",
       "      <td>0.017065</td>\n",
       "      <td>GE</td>\n",
       "    </tr>\n",
       "    <tr>\n",
       "      <td>216290</td>\n",
       "      <td>25.923077</td>\n",
       "      <td>26.355770</td>\n",
       "      <td>25.951923</td>\n",
       "      <td>55.923153</td>\n",
       "      <td>74785700.0</td>\n",
       "      <td>0.011115</td>\n",
       "      <td>GE</td>\n",
       "    </tr>\n",
       "    <tr>\n",
       "      <td>216291</td>\n",
       "      <td>26.269230</td>\n",
       "      <td>26.701923</td>\n",
       "      <td>26.442308</td>\n",
       "      <td>25.611539</td>\n",
       "      <td>68297800.0</td>\n",
       "      <td>0.009818</td>\n",
       "      <td>GE</td>\n",
       "    </tr>\n",
       "  </tbody>\n",
       "</table>\n",
       "</div>"
      ],
      "text/plain": [
       "              Low       High       Open       SMA_5       Volume  \\\n",
       "216287  23.836538  24.336538  24.182692  151.669307   41312500.0   \n",
       "216288  23.875000  24.509615  23.913462  119.193230   44383200.0   \n",
       "216289  25.211538  26.153847  25.355770   87.559998  109640200.0   \n",
       "216290  25.923077  26.355770  25.951923   55.923153   74785700.0   \n",
       "216291  26.269230  26.701923  26.442308   25.611539   68297800.0   \n",
       "\n",
       "        daily_pct_chng ticker  \n",
       "216287        0.001590     GE  \n",
       "216288        0.024125     GE  \n",
       "216289        0.017065     GE  \n",
       "216290        0.011115     GE  \n",
       "216291        0.009818     GE  "
      ]
     },
     "execution_count": 45,
     "metadata": {},
     "output_type": "execute_result"
    }
   ],
   "source": [
    "apple_stock.head()"
   ]
  },
  {
   "cell_type": "code",
   "execution_count": null,
   "metadata": {},
   "outputs": [],
   "source": [
    "# # pickle final model\n",
    "# filename = open('AAPL_final_model.pkl', 'wb')\n",
    "# pickle.dump(apple_stock, filename)\n",
    "# filename.close()"
   ]
  },
  {
   "cell_type": "code",
   "execution_count": 46,
   "metadata": {},
   "outputs": [
    {
     "data": {
      "text/html": [
       "<div>\n",
       "<style scoped>\n",
       "    .dataframe tbody tr th:only-of-type {\n",
       "        vertical-align: middle;\n",
       "    }\n",
       "\n",
       "    .dataframe tbody tr th {\n",
       "        vertical-align: top;\n",
       "    }\n",
       "\n",
       "    .dataframe thead th {\n",
       "        text-align: right;\n",
       "    }\n",
       "</style>\n",
       "<table border=\"1\" class=\"dataframe\">\n",
       "  <thead>\n",
       "    <tr style=\"text-align: right;\">\n",
       "      <th></th>\n",
       "      <th>Low</th>\n",
       "      <th>High</th>\n",
       "      <th>Open</th>\n",
       "      <th>SMA_5</th>\n",
       "      <th>Volume</th>\n",
       "      <th>daily_pct_chng</th>\n",
       "    </tr>\n",
       "  </thead>\n",
       "  <tbody>\n",
       "    <tr>\n",
       "      <td>922</td>\n",
       "      <td>-1.266948</td>\n",
       "      <td>-1.273301</td>\n",
       "      <td>-1.282848</td>\n",
       "      <td>-1.099812</td>\n",
       "      <td>-0.351266</td>\n",
       "      <td>1.598422</td>\n",
       "    </tr>\n",
       "    <tr>\n",
       "      <td>72</td>\n",
       "      <td>0.841578</td>\n",
       "      <td>0.904032</td>\n",
       "      <td>0.822157</td>\n",
       "      <td>0.722969</td>\n",
       "      <td>0.056688</td>\n",
       "      <td>1.709413</td>\n",
       "    </tr>\n",
       "    <tr>\n",
       "      <td>528</td>\n",
       "      <td>-0.110478</td>\n",
       "      <td>-0.100801</td>\n",
       "      <td>-0.125422</td>\n",
       "      <td>-0.110092</td>\n",
       "      <td>0.110806</td>\n",
       "      <td>0.735925</td>\n",
       "    </tr>\n",
       "    <tr>\n",
       "      <td>877</td>\n",
       "      <td>-1.202349</td>\n",
       "      <td>-1.218238</td>\n",
       "      <td>-1.205324</td>\n",
       "      <td>-1.036142</td>\n",
       "      <td>-0.392406</td>\n",
       "      <td>-0.402915</td>\n",
       "    </tr>\n",
       "    <tr>\n",
       "      <td>63</td>\n",
       "      <td>1.123920</td>\n",
       "      <td>1.156367</td>\n",
       "      <td>1.110158</td>\n",
       "      <td>0.909450</td>\n",
       "      <td>-0.209956</td>\n",
       "      <td>0.632146</td>\n",
       "    </tr>\n",
       "    <tr>\n",
       "      <td>259</td>\n",
       "      <td>0.886753</td>\n",
       "      <td>0.879250</td>\n",
       "      <td>0.871852</td>\n",
       "      <td>0.729354</td>\n",
       "      <td>-0.650587</td>\n",
       "      <td>0.412583</td>\n",
       "    </tr>\n",
       "    <tr>\n",
       "      <td>294</td>\n",
       "      <td>1.119402</td>\n",
       "      <td>1.131584</td>\n",
       "      <td>1.146300</td>\n",
       "      <td>0.920342</td>\n",
       "      <td>-0.347532</td>\n",
       "      <td>-0.808870</td>\n",
       "    </tr>\n",
       "    <tr>\n",
       "      <td>290</td>\n",
       "      <td>1.167965</td>\n",
       "      <td>1.143976</td>\n",
       "      <td>1.153076</td>\n",
       "      <td>0.889356</td>\n",
       "      <td>-0.788126</td>\n",
       "      <td>0.241681</td>\n",
       "    </tr>\n",
       "    <tr>\n",
       "      <td>198</td>\n",
       "      <td>1.344146</td>\n",
       "      <td>1.320835</td>\n",
       "      <td>1.324748</td>\n",
       "      <td>1.037151</td>\n",
       "      <td>-0.416168</td>\n",
       "      <td>0.270795</td>\n",
       "    </tr>\n",
       "    <tr>\n",
       "      <td>811</td>\n",
       "      <td>-1.522185</td>\n",
       "      <td>-1.510045</td>\n",
       "      <td>-1.511215</td>\n",
       "      <td>-1.315176</td>\n",
       "      <td>2.472037</td>\n",
       "      <td>-1.689881</td>\n",
       "    </tr>\n",
       "  </tbody>\n",
       "</table>\n",
       "</div>"
      ],
      "text/plain": [
       "          Low      High      Open     SMA_5    Volume  daily_pct_chng\n",
       "922 -1.266948 -1.273301 -1.282848 -1.099812 -0.351266        1.598422\n",
       "72   0.841578  0.904032  0.822157  0.722969  0.056688        1.709413\n",
       "528 -0.110478 -0.100801 -0.125422 -0.110092  0.110806        0.735925\n",
       "877 -1.202349 -1.218238 -1.205324 -1.036142 -0.392406       -0.402915\n",
       "63   1.123920  1.156367  1.110158  0.909450 -0.209956        0.632146\n",
       "259  0.886753  0.879250  0.871852  0.729354 -0.650587        0.412583\n",
       "294  1.119402  1.131584  1.146300  0.920342 -0.347532       -0.808870\n",
       "290  1.167965  1.143976  1.153076  0.889356 -0.788126        0.241681\n",
       "198  1.344146  1.320835  1.324748  1.037151 -0.416168        0.270795\n",
       "811 -1.522185 -1.510045 -1.511215 -1.315176  2.472037       -1.689881"
      ]
     },
     "execution_count": 46,
     "metadata": {},
     "output_type": "execute_result"
    }
   ],
   "source": [
    "X_test.sample(10)"
   ]
  },
  {
   "cell_type": "code",
   "execution_count": 47,
   "metadata": {},
   "outputs": [
    {
     "data": {
      "text/plain": [
       "217225    10.220000\n",
       "216917    12.769231\n",
       "216969    12.692307\n",
       "216801    22.461538\n",
       "216652    28.615385\n",
       "216942    14.057693\n",
       "216943    14.125000\n",
       "216816    19.355770\n",
       "216608    30.163462\n",
       "216357    27.538462\n",
       "Name: Close, dtype: float64"
      ]
     },
     "execution_count": 47,
     "metadata": {},
     "output_type": "execute_result"
    }
   ],
   "source": [
    "y_test.head(10)"
   ]
  },
  {
   "cell_type": "code",
   "execution_count": 48,
   "metadata": {},
   "outputs": [
    {
     "name": "stdout",
     "output_type": "stream",
     "text": [
      "1008\n",
      "              Date       High        Low       Open      Close       Volume  \\\n",
      "216287  2015-10-01  24.336538  23.836538  24.182692  24.221153   41312500.0   \n",
      "216288  2015-10-02  24.509615  23.875000  23.913462  24.490385   44383200.0   \n",
      "216289  2015-10-05  26.153847  25.211538  25.355770  25.788462  109640200.0   \n",
      "216290  2015-10-06  26.355770  25.923077  25.951923  26.240385   74785700.0   \n",
      "216291  2015-10-07  26.701923  26.269230  26.442308  26.701923   68297800.0   \n",
      "\n",
      "        Adj Close  HL_pct_diff  daily_pct_chng ticker       SMA_5  \n",
      "216287  21.521675     0.020976        0.001590     GE  151.669307  \n",
      "216288  21.760902     0.026581        0.024125     GE  119.193230  \n",
      "216289  22.914310     0.037376        0.017065     GE   87.559998  \n",
      "216290  23.315865     0.016691        0.011115     GE   55.923153  \n",
      "216291  23.725962     0.016471        0.009818     GE   25.611539  \n"
     ]
    }
   ],
   "source": [
    "stock_filter = apple.loc[apple['ticker']=='GE']\n",
    "#stock_filter = top_5.loc[top_5['ticker']]\n",
    "print(len(stock_filter))\n",
    "print (stock_filter.head())"
   ]
  },
  {
   "cell_type": "code",
   "execution_count": 49,
   "metadata": {},
   "outputs": [
    {
     "data": {
      "text/plain": [
       "20.215601744632874"
      ]
     },
     "execution_count": 49,
     "metadata": {},
     "output_type": "execute_result"
    }
   ],
   "source": [
    "stock_filter['Close'].mean()"
   ]
  },
  {
   "cell_type": "code",
   "execution_count": 50,
   "metadata": {},
   "outputs": [
    {
     "name": "stdout",
     "output_type": "stream",
     "text": [
      "actual high 10.220000267028807\n",
      "predicted 10.0\n"
     ]
    }
   ],
   "source": [
    "print ('actual high', y_test[217225])\n",
    "print ('predicted', round(y_pred[0]))\n",
    "## talk to austin about this"
   ]
  },
  {
   "cell_type": "code",
   "execution_count": 51,
   "metadata": {},
   "outputs": [
    {
     "name": "stdout",
     "output_type": "stream",
     "text": [
      "10.0\n",
      "13.0\n",
      "13.0\n",
      "22.0\n",
      "29.0\n"
     ]
    }
   ],
   "source": [
    "# predict the y-values\n",
    "y_pred = mystock.predict(X_test)\n",
    "for i in y_pred[:5]:\n",
    "    print(round(i,0))"
   ]
  },
  {
   "cell_type": "code",
   "execution_count": 52,
   "metadata": {},
   "outputs": [
    {
     "name": "stdout",
     "output_type": "stream",
     "text": [
      "10.0\n",
      "13.0\n",
      "13.0\n",
      "22.0\n",
      "29.0\n"
     ]
    }
   ],
   "source": [
    "# How similar are those to the actual high prices?\n",
    "for i in y_test[:5]:\n",
    "    print(round(i,0))"
   ]
  },
  {
   "cell_type": "code",
   "execution_count": 53,
   "metadata": {},
   "outputs": [
    {
     "name": "stdout",
     "output_type": "stream",
     "text": [
      "0.0\n",
      "-0.0\n",
      "0.0\n",
      "0.0\n",
      "0.0\n"
     ]
    }
   ],
   "source": [
    "# the residuals are the difference between true y values and predicted y values.\n",
    "residuals= y_test - y_pred\n",
    "for i in residuals[:5]:\n",
    "    print(round(i,0))"
   ]
  },
  {
   "cell_type": "code",
   "execution_count": 54,
   "metadata": {},
   "outputs": [
    {
     "data": {
      "image/png": "[encoded data removed]",
      "text/plain": [
       "<Figure size 864x936 with 1 Axes>"
      ]
     },
     "metadata": {
      "needs_background": "light"
     },
     "output_type": "display_data"
    }
   ],
   "source": [
    "# Use a scatter plot to compare our predictions to the actual values\n",
    "# Remember: when x==y, that indicates an accurate model! \n",
    "# Do we have that?\n",
    "plt.figure(figsize=(12, 13))\n",
    "sns.regplot(y_pred, y_test);"
   ]
  },
  {
   "cell_type": "code",
   "execution_count": 55,
   "metadata": {},
   "outputs": [
    {
     "name": "stderr",
     "output_type": "stream",
     "text": [
      "/Library/Frameworks/Python.framework/Versions/3.7/lib/python3.7/site-packages/ipykernel_launcher.py:1: SettingWithCopyWarning: \n",
      "A value is trying to be set on a copy of a slice from a DataFrame.\n",
      "Try using .loc[row_indexer,col_indexer] = value instead\n",
      "\n",
      "See the caveats in the documentation: http://pandas.pydata.org/pandas-docs/stable/user_guide/indexing.html#returning-a-view-versus-a-copy\n",
      "  \"\"\"Entry point for launching an IPython kernel.\n"
     ]
    }
   ],
   "source": [
    "apple_stock['ticker'] = apple['ticker']"
   ]
  },
  {
   "cell_type": "code",
   "execution_count": 56,
   "metadata": {},
   "outputs": [
    {
     "data": {
      "text/html": [
       "<div>\n",
       "<style scoped>\n",
       "    .dataframe tbody tr th:only-of-type {\n",
       "        vertical-align: middle;\n",
       "    }\n",
       "\n",
       "    .dataframe tbody tr th {\n",
       "        vertical-align: top;\n",
       "    }\n",
       "\n",
       "    .dataframe thead th {\n",
       "        text-align: right;\n",
       "    }\n",
       "</style>\n",
       "<table border=\"1\" class=\"dataframe\">\n",
       "  <thead>\n",
       "    <tr style=\"text-align: right;\">\n",
       "      <th></th>\n",
       "      <th>Low</th>\n",
       "      <th>High</th>\n",
       "      <th>Open</th>\n",
       "      <th>SMA_5</th>\n",
       "      <th>Volume</th>\n",
       "      <th>daily_pct_chng</th>\n",
       "      <th>ticker</th>\n",
       "    </tr>\n",
       "  </thead>\n",
       "  <tbody>\n",
       "    <tr>\n",
       "      <td>216287</td>\n",
       "      <td>23.836538</td>\n",
       "      <td>24.336538</td>\n",
       "      <td>24.182692</td>\n",
       "      <td>151.669307</td>\n",
       "      <td>41312500.0</td>\n",
       "      <td>0.001590</td>\n",
       "      <td>GE</td>\n",
       "    </tr>\n",
       "    <tr>\n",
       "      <td>216288</td>\n",
       "      <td>23.875000</td>\n",
       "      <td>24.509615</td>\n",
       "      <td>23.913462</td>\n",
       "      <td>119.193230</td>\n",
       "      <td>44383200.0</td>\n",
       "      <td>0.024125</td>\n",
       "      <td>GE</td>\n",
       "    </tr>\n",
       "    <tr>\n",
       "      <td>216289</td>\n",
       "      <td>25.211538</td>\n",
       "      <td>26.153847</td>\n",
       "      <td>25.355770</td>\n",
       "      <td>87.559998</td>\n",
       "      <td>109640200.0</td>\n",
       "      <td>0.017065</td>\n",
       "      <td>GE</td>\n",
       "    </tr>\n",
       "    <tr>\n",
       "      <td>216290</td>\n",
       "      <td>25.923077</td>\n",
       "      <td>26.355770</td>\n",
       "      <td>25.951923</td>\n",
       "      <td>55.923153</td>\n",
       "      <td>74785700.0</td>\n",
       "      <td>0.011115</td>\n",
       "      <td>GE</td>\n",
       "    </tr>\n",
       "    <tr>\n",
       "      <td>216291</td>\n",
       "      <td>26.269230</td>\n",
       "      <td>26.701923</td>\n",
       "      <td>26.442308</td>\n",
       "      <td>25.611539</td>\n",
       "      <td>68297800.0</td>\n",
       "      <td>0.009818</td>\n",
       "      <td>GE</td>\n",
       "    </tr>\n",
       "  </tbody>\n",
       "</table>\n",
       "</div>"
      ],
      "text/plain": [
       "              Low       High       Open       SMA_5       Volume  \\\n",
       "216287  23.836538  24.336538  24.182692  151.669307   41312500.0   \n",
       "216288  23.875000  24.509615  23.913462  119.193230   44383200.0   \n",
       "216289  25.211538  26.153847  25.355770   87.559998  109640200.0   \n",
       "216290  25.923077  26.355770  25.951923   55.923153   74785700.0   \n",
       "216291  26.269230  26.701923  26.442308   25.611539   68297800.0   \n",
       "\n",
       "        daily_pct_chng ticker  \n",
       "216287        0.001590     GE  \n",
       "216288        0.024125     GE  \n",
       "216289        0.017065     GE  \n",
       "216290        0.011115     GE  \n",
       "216291        0.009818     GE  "
      ]
     },
     "execution_count": 56,
     "metadata": {},
     "output_type": "execute_result"
    }
   ],
   "source": [
    "apple_stock.head()"
   ]
  },
  {
   "cell_type": "code",
   "execution_count": 57,
   "metadata": {},
   "outputs": [],
   "source": [
    "apple.to_csv('GE.csv')"
   ]
  },
  {
   "cell_type": "code",
   "execution_count": 59,
   "metadata": {},
   "outputs": [
    {
     "name": "stdout",
     "output_type": "stream",
     "text": [
      "LinearRegression(copy_X=True, fit_intercept=True, n_jobs=None, normalize=False)\n"
     ]
    }
   ],
   "source": [
    "file = open('/Users/germanportes/Documents/general_assembly/projects/final_project/F_final_model.pkl', 'rb')\n",
    "GE=pickle.load(file)\n",
    "file.close()\n",
    "print (GE)"
   ]
  },
  {
   "cell_type": "code",
   "execution_count": null,
   "metadata": {},
   "outputs": [],
   "source": []
  }
 ],
 "metadata": {
  "kernelspec": {
   "display_name": "Python 3",
   "language": "python",
   "name": "python3"
  },
  "language_info": {
   "codemirror_mode": {
    "name": "ipython",
    "version": 3
   },
   "file_extension": ".py",
   "mimetype": "text/x-python",
   "name": "python",
   "nbconvert_exporter": "python",
   "pygments_lexer": "ipython3",
   "version": "3.7.4"
  }
 },
 "nbformat": 4,
 "nbformat_minor": 2
}
